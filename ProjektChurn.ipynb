{
 "cells": [
  {
   "cell_type": "code",
   "execution_count": 1,
   "metadata": {},
   "outputs": [
    {
     "name": "stdout",
     "output_type": "stream",
     "text": [
      "D:\\PYTHON\\churn\n"
     ]
    }
   ],
   "source": [
    "%cd D:\\PYTHON\\churn"
   ]
  },
  {
   "cell_type": "markdown",
   "metadata": {},
   "source": [
    "# 1. Import bibliotek"
   ]
  },
  {
   "cell_type": "code",
   "execution_count": 2,
   "metadata": {},
   "outputs": [],
   "source": [
    "import numpy as np\n",
    "import pandas as pd\n",
    "from collections import Counter\n",
    "import matplotlib.pyplot as plt\n",
    "import math\n",
    "import seaborn as sns\n",
    "from matplotlib import font_manager as fm\n",
    "from sklearn.linear_model import LinearRegression\n",
    "from sklearn.model_selection import train_test_split\n",
    "from sklearn.preprocessing import StandardScaler\n",
    "import statsmodels.api as sm\n",
    "from sklearn.cluster import KMeans\n",
    "from sklearn.feature_selection import RFE\n",
    "from sklearn.ensemble import ExtraTreesClassifier\n",
    "from sklearn.feature_selection import SelectKBest\n",
    "from sklearn.feature_selection import f_classif\n",
    "from sklearn.linear_model import LogisticRegression\n",
    "import sklearn.metrics\n",
    "from sklearn.metrics import accuracy_score\n",
    "from sklearn.metrics import roc_auc_score\n",
    "from sklearn.metrics import confusion_matrix\n",
    "from sklearn.metrics import roc_curve\n",
    "from sklearn.ensemble import RandomForestClassifier\n",
    "from sklearn.model_selection import GridSearchCV\n",
    "from sklearn.pipeline import Pipeline\n",
    "from sklearn.model_selection import RepeatedStratifiedKFold\n",
    "import xgboost as xgb\n",
    "from xgboost import XGBClassifier\n",
    "from sklearn.model_selection import RandomizedSearchCV\n",
    "from sklearn.cluster import AgglomerativeClustering\n",
    "from scipy.cluster import hierarchy\n",
    "from scipy.cluster.hierarchy import dendrogram, linkage\n",
    "from sklearn.metrics import precision_recall_curve\n",
    "from sklearn.metrics import plot_precision_recall_curve\n",
    "from sklearn.metrics import precision_score\n",
    "from sklearn.metrics import recall_score"
   ]
  },
  {
   "cell_type": "markdown",
   "metadata": {},
   "source": [
    "# 2. Import bazy danych"
   ]
  },
  {
   "cell_type": "code",
   "execution_count": 3,
   "metadata": {
    "scrolled": false
   },
   "outputs": [],
   "source": [
    "df = pd.read_csv('train.csv')"
   ]
  },
  {
   "cell_type": "markdown",
   "metadata": {},
   "source": [
    "# 3. Podstawowe sprawdzenie danych"
   ]
  },
  {
   "cell_type": "code",
   "execution_count": 4,
   "metadata": {},
   "outputs": [
    {
     "data": {
      "text/html": [
       "<div>\n",
       "<style scoped>\n",
       "    .dataframe tbody tr th:only-of-type {\n",
       "        vertical-align: middle;\n",
       "    }\n",
       "\n",
       "    .dataframe tbody tr th {\n",
       "        vertical-align: top;\n",
       "    }\n",
       "\n",
       "    .dataframe thead th {\n",
       "        text-align: right;\n",
       "    }\n",
       "</style>\n",
       "<table border=\"1\" class=\"dataframe\">\n",
       "  <thead>\n",
       "    <tr style=\"text-align: right;\">\n",
       "      <th></th>\n",
       "      <th>state</th>\n",
       "      <th>account_length</th>\n",
       "      <th>area_code</th>\n",
       "      <th>international_plan</th>\n",
       "      <th>voice_mail_plan</th>\n",
       "      <th>number_vmail_messages</th>\n",
       "      <th>total_day_minutes</th>\n",
       "      <th>total_day_calls</th>\n",
       "      <th>total_day_charge</th>\n",
       "      <th>total_eve_minutes</th>\n",
       "      <th>total_eve_calls</th>\n",
       "      <th>total_eve_charge</th>\n",
       "      <th>total_night_minutes</th>\n",
       "      <th>total_night_calls</th>\n",
       "      <th>total_night_charge</th>\n",
       "      <th>total_intl_minutes</th>\n",
       "      <th>total_intl_calls</th>\n",
       "      <th>total_intl_charge</th>\n",
       "      <th>number_customer_service_calls</th>\n",
       "      <th>churn</th>\n",
       "    </tr>\n",
       "  </thead>\n",
       "  <tbody>\n",
       "    <tr>\n",
       "      <th>0</th>\n",
       "      <td>OH</td>\n",
       "      <td>107</td>\n",
       "      <td>area_code_415</td>\n",
       "      <td>no</td>\n",
       "      <td>yes</td>\n",
       "      <td>26</td>\n",
       "      <td>161.6</td>\n",
       "      <td>123</td>\n",
       "      <td>27.47</td>\n",
       "      <td>195.5</td>\n",
       "      <td>103</td>\n",
       "      <td>16.62</td>\n",
       "      <td>254.4</td>\n",
       "      <td>103</td>\n",
       "      <td>11.45</td>\n",
       "      <td>13.7</td>\n",
       "      <td>3</td>\n",
       "      <td>3.70</td>\n",
       "      <td>1</td>\n",
       "      <td>no</td>\n",
       "    </tr>\n",
       "    <tr>\n",
       "      <th>1</th>\n",
       "      <td>NJ</td>\n",
       "      <td>137</td>\n",
       "      <td>area_code_415</td>\n",
       "      <td>no</td>\n",
       "      <td>no</td>\n",
       "      <td>0</td>\n",
       "      <td>243.4</td>\n",
       "      <td>114</td>\n",
       "      <td>41.38</td>\n",
       "      <td>121.2</td>\n",
       "      <td>110</td>\n",
       "      <td>10.30</td>\n",
       "      <td>162.6</td>\n",
       "      <td>104</td>\n",
       "      <td>7.32</td>\n",
       "      <td>12.2</td>\n",
       "      <td>5</td>\n",
       "      <td>3.29</td>\n",
       "      <td>0</td>\n",
       "      <td>no</td>\n",
       "    </tr>\n",
       "    <tr>\n",
       "      <th>2</th>\n",
       "      <td>OH</td>\n",
       "      <td>84</td>\n",
       "      <td>area_code_408</td>\n",
       "      <td>yes</td>\n",
       "      <td>no</td>\n",
       "      <td>0</td>\n",
       "      <td>299.4</td>\n",
       "      <td>71</td>\n",
       "      <td>50.90</td>\n",
       "      <td>61.9</td>\n",
       "      <td>88</td>\n",
       "      <td>5.26</td>\n",
       "      <td>196.9</td>\n",
       "      <td>89</td>\n",
       "      <td>8.86</td>\n",
       "      <td>6.6</td>\n",
       "      <td>7</td>\n",
       "      <td>1.78</td>\n",
       "      <td>2</td>\n",
       "      <td>no</td>\n",
       "    </tr>\n",
       "    <tr>\n",
       "      <th>3</th>\n",
       "      <td>OK</td>\n",
       "      <td>75</td>\n",
       "      <td>area_code_415</td>\n",
       "      <td>yes</td>\n",
       "      <td>no</td>\n",
       "      <td>0</td>\n",
       "      <td>166.7</td>\n",
       "      <td>113</td>\n",
       "      <td>28.34</td>\n",
       "      <td>148.3</td>\n",
       "      <td>122</td>\n",
       "      <td>12.61</td>\n",
       "      <td>186.9</td>\n",
       "      <td>121</td>\n",
       "      <td>8.41</td>\n",
       "      <td>10.1</td>\n",
       "      <td>3</td>\n",
       "      <td>2.73</td>\n",
       "      <td>3</td>\n",
       "      <td>no</td>\n",
       "    </tr>\n",
       "    <tr>\n",
       "      <th>4</th>\n",
       "      <td>MA</td>\n",
       "      <td>121</td>\n",
       "      <td>area_code_510</td>\n",
       "      <td>no</td>\n",
       "      <td>yes</td>\n",
       "      <td>24</td>\n",
       "      <td>218.2</td>\n",
       "      <td>88</td>\n",
       "      <td>37.09</td>\n",
       "      <td>348.5</td>\n",
       "      <td>108</td>\n",
       "      <td>29.62</td>\n",
       "      <td>212.6</td>\n",
       "      <td>118</td>\n",
       "      <td>9.57</td>\n",
       "      <td>7.5</td>\n",
       "      <td>7</td>\n",
       "      <td>2.03</td>\n",
       "      <td>3</td>\n",
       "      <td>no</td>\n",
       "    </tr>\n",
       "  </tbody>\n",
       "</table>\n",
       "</div>"
      ],
      "text/plain": [
       "  state  account_length      area_code international_plan voice_mail_plan  \\\n",
       "0    OH             107  area_code_415                 no             yes   \n",
       "1    NJ             137  area_code_415                 no              no   \n",
       "2    OH              84  area_code_408                yes              no   \n",
       "3    OK              75  area_code_415                yes              no   \n",
       "4    MA             121  area_code_510                 no             yes   \n",
       "\n",
       "   number_vmail_messages  total_day_minutes  total_day_calls  \\\n",
       "0                     26              161.6              123   \n",
       "1                      0              243.4              114   \n",
       "2                      0              299.4               71   \n",
       "3                      0              166.7              113   \n",
       "4                     24              218.2               88   \n",
       "\n",
       "   total_day_charge  total_eve_minutes  total_eve_calls  total_eve_charge  \\\n",
       "0             27.47              195.5              103             16.62   \n",
       "1             41.38              121.2              110             10.30   \n",
       "2             50.90               61.9               88              5.26   \n",
       "3             28.34              148.3              122             12.61   \n",
       "4             37.09              348.5              108             29.62   \n",
       "\n",
       "   total_night_minutes  total_night_calls  total_night_charge  \\\n",
       "0                254.4                103               11.45   \n",
       "1                162.6                104                7.32   \n",
       "2                196.9                 89                8.86   \n",
       "3                186.9                121                8.41   \n",
       "4                212.6                118                9.57   \n",
       "\n",
       "   total_intl_minutes  total_intl_calls  total_intl_charge  \\\n",
       "0                13.7                 3               3.70   \n",
       "1                12.2                 5               3.29   \n",
       "2                 6.6                 7               1.78   \n",
       "3                10.1                 3               2.73   \n",
       "4                 7.5                 7               2.03   \n",
       "\n",
       "   number_customer_service_calls churn  \n",
       "0                              1    no  \n",
       "1                              0    no  \n",
       "2                              2    no  \n",
       "3                              3    no  \n",
       "4                              3    no  "
      ]
     },
     "execution_count": 4,
     "metadata": {},
     "output_type": "execute_result"
    }
   ],
   "source": [
    "df.head()"
   ]
  },
  {
   "cell_type": "code",
   "execution_count": 5,
   "metadata": {
    "scrolled": true
   },
   "outputs": [
    {
     "data": {
      "text/html": [
       "<div>\n",
       "<style scoped>\n",
       "    .dataframe tbody tr th:only-of-type {\n",
       "        vertical-align: middle;\n",
       "    }\n",
       "\n",
       "    .dataframe tbody tr th {\n",
       "        vertical-align: top;\n",
       "    }\n",
       "\n",
       "    .dataframe thead th {\n",
       "        text-align: right;\n",
       "    }\n",
       "</style>\n",
       "<table border=\"1\" class=\"dataframe\">\n",
       "  <thead>\n",
       "    <tr style=\"text-align: right;\">\n",
       "      <th></th>\n",
       "      <th>account_length</th>\n",
       "      <th>number_vmail_messages</th>\n",
       "      <th>total_day_minutes</th>\n",
       "      <th>total_day_calls</th>\n",
       "      <th>total_day_charge</th>\n",
       "      <th>total_eve_minutes</th>\n",
       "      <th>total_eve_calls</th>\n",
       "      <th>total_eve_charge</th>\n",
       "      <th>total_night_minutes</th>\n",
       "      <th>total_night_calls</th>\n",
       "      <th>total_night_charge</th>\n",
       "      <th>total_intl_minutes</th>\n",
       "      <th>total_intl_calls</th>\n",
       "      <th>total_intl_charge</th>\n",
       "      <th>number_customer_service_calls</th>\n",
       "    </tr>\n",
       "  </thead>\n",
       "  <tbody>\n",
       "    <tr>\n",
       "      <th>count</th>\n",
       "      <td>4250.000000</td>\n",
       "      <td>4250.000000</td>\n",
       "      <td>4250.000000</td>\n",
       "      <td>4250.000000</td>\n",
       "      <td>4250.000000</td>\n",
       "      <td>4250.000000</td>\n",
       "      <td>4250.000000</td>\n",
       "      <td>4250.000000</td>\n",
       "      <td>4250.000000</td>\n",
       "      <td>4250.000000</td>\n",
       "      <td>4250.000000</td>\n",
       "      <td>4250.000000</td>\n",
       "      <td>4250.000000</td>\n",
       "      <td>4250.000000</td>\n",
       "      <td>4250.000000</td>\n",
       "    </tr>\n",
       "    <tr>\n",
       "      <th>mean</th>\n",
       "      <td>100.236235</td>\n",
       "      <td>7.631765</td>\n",
       "      <td>180.259600</td>\n",
       "      <td>99.907294</td>\n",
       "      <td>30.644682</td>\n",
       "      <td>200.173906</td>\n",
       "      <td>100.176471</td>\n",
       "      <td>17.015012</td>\n",
       "      <td>200.527882</td>\n",
       "      <td>99.839529</td>\n",
       "      <td>9.023892</td>\n",
       "      <td>10.256071</td>\n",
       "      <td>4.426353</td>\n",
       "      <td>2.769654</td>\n",
       "      <td>1.559059</td>\n",
       "    </tr>\n",
       "    <tr>\n",
       "      <th>std</th>\n",
       "      <td>39.698401</td>\n",
       "      <td>13.439882</td>\n",
       "      <td>54.012373</td>\n",
       "      <td>19.850817</td>\n",
       "      <td>9.182096</td>\n",
       "      <td>50.249518</td>\n",
       "      <td>19.908591</td>\n",
       "      <td>4.271212</td>\n",
       "      <td>50.353548</td>\n",
       "      <td>20.093220</td>\n",
       "      <td>2.265922</td>\n",
       "      <td>2.760102</td>\n",
       "      <td>2.463069</td>\n",
       "      <td>0.745204</td>\n",
       "      <td>1.311434</td>\n",
       "    </tr>\n",
       "    <tr>\n",
       "      <th>min</th>\n",
       "      <td>1.000000</td>\n",
       "      <td>0.000000</td>\n",
       "      <td>0.000000</td>\n",
       "      <td>0.000000</td>\n",
       "      <td>0.000000</td>\n",
       "      <td>0.000000</td>\n",
       "      <td>0.000000</td>\n",
       "      <td>0.000000</td>\n",
       "      <td>0.000000</td>\n",
       "      <td>0.000000</td>\n",
       "      <td>0.000000</td>\n",
       "      <td>0.000000</td>\n",
       "      <td>0.000000</td>\n",
       "      <td>0.000000</td>\n",
       "      <td>0.000000</td>\n",
       "    </tr>\n",
       "    <tr>\n",
       "      <th>25%</th>\n",
       "      <td>73.000000</td>\n",
       "      <td>0.000000</td>\n",
       "      <td>143.325000</td>\n",
       "      <td>87.000000</td>\n",
       "      <td>24.365000</td>\n",
       "      <td>165.925000</td>\n",
       "      <td>87.000000</td>\n",
       "      <td>14.102500</td>\n",
       "      <td>167.225000</td>\n",
       "      <td>86.000000</td>\n",
       "      <td>7.522500</td>\n",
       "      <td>8.500000</td>\n",
       "      <td>3.000000</td>\n",
       "      <td>2.300000</td>\n",
       "      <td>1.000000</td>\n",
       "    </tr>\n",
       "    <tr>\n",
       "      <th>50%</th>\n",
       "      <td>100.000000</td>\n",
       "      <td>0.000000</td>\n",
       "      <td>180.450000</td>\n",
       "      <td>100.000000</td>\n",
       "      <td>30.680000</td>\n",
       "      <td>200.700000</td>\n",
       "      <td>100.000000</td>\n",
       "      <td>17.060000</td>\n",
       "      <td>200.450000</td>\n",
       "      <td>100.000000</td>\n",
       "      <td>9.020000</td>\n",
       "      <td>10.300000</td>\n",
       "      <td>4.000000</td>\n",
       "      <td>2.780000</td>\n",
       "      <td>1.000000</td>\n",
       "    </tr>\n",
       "    <tr>\n",
       "      <th>75%</th>\n",
       "      <td>127.000000</td>\n",
       "      <td>16.000000</td>\n",
       "      <td>216.200000</td>\n",
       "      <td>113.000000</td>\n",
       "      <td>36.750000</td>\n",
       "      <td>233.775000</td>\n",
       "      <td>114.000000</td>\n",
       "      <td>19.867500</td>\n",
       "      <td>234.700000</td>\n",
       "      <td>113.000000</td>\n",
       "      <td>10.560000</td>\n",
       "      <td>12.000000</td>\n",
       "      <td>6.000000</td>\n",
       "      <td>3.240000</td>\n",
       "      <td>2.000000</td>\n",
       "    </tr>\n",
       "    <tr>\n",
       "      <th>max</th>\n",
       "      <td>243.000000</td>\n",
       "      <td>52.000000</td>\n",
       "      <td>351.500000</td>\n",
       "      <td>165.000000</td>\n",
       "      <td>59.760000</td>\n",
       "      <td>359.300000</td>\n",
       "      <td>170.000000</td>\n",
       "      <td>30.540000</td>\n",
       "      <td>395.000000</td>\n",
       "      <td>175.000000</td>\n",
       "      <td>17.770000</td>\n",
       "      <td>20.000000</td>\n",
       "      <td>20.000000</td>\n",
       "      <td>5.400000</td>\n",
       "      <td>9.000000</td>\n",
       "    </tr>\n",
       "  </tbody>\n",
       "</table>\n",
       "</div>"
      ],
      "text/plain": [
       "       account_length  number_vmail_messages  total_day_minutes  \\\n",
       "count     4250.000000            4250.000000        4250.000000   \n",
       "mean       100.236235               7.631765         180.259600   \n",
       "std         39.698401              13.439882          54.012373   \n",
       "min          1.000000               0.000000           0.000000   \n",
       "25%         73.000000               0.000000         143.325000   \n",
       "50%        100.000000               0.000000         180.450000   \n",
       "75%        127.000000              16.000000         216.200000   \n",
       "max        243.000000              52.000000         351.500000   \n",
       "\n",
       "       total_day_calls  total_day_charge  total_eve_minutes  total_eve_calls  \\\n",
       "count      4250.000000       4250.000000        4250.000000      4250.000000   \n",
       "mean         99.907294         30.644682         200.173906       100.176471   \n",
       "std          19.850817          9.182096          50.249518        19.908591   \n",
       "min           0.000000          0.000000           0.000000         0.000000   \n",
       "25%          87.000000         24.365000         165.925000        87.000000   \n",
       "50%         100.000000         30.680000         200.700000       100.000000   \n",
       "75%         113.000000         36.750000         233.775000       114.000000   \n",
       "max         165.000000         59.760000         359.300000       170.000000   \n",
       "\n",
       "       total_eve_charge  total_night_minutes  total_night_calls  \\\n",
       "count       4250.000000          4250.000000        4250.000000   \n",
       "mean          17.015012           200.527882          99.839529   \n",
       "std            4.271212            50.353548          20.093220   \n",
       "min            0.000000             0.000000           0.000000   \n",
       "25%           14.102500           167.225000          86.000000   \n",
       "50%           17.060000           200.450000         100.000000   \n",
       "75%           19.867500           234.700000         113.000000   \n",
       "max           30.540000           395.000000         175.000000   \n",
       "\n",
       "       total_night_charge  total_intl_minutes  total_intl_calls  \\\n",
       "count         4250.000000         4250.000000       4250.000000   \n",
       "mean             9.023892           10.256071          4.426353   \n",
       "std              2.265922            2.760102          2.463069   \n",
       "min              0.000000            0.000000          0.000000   \n",
       "25%              7.522500            8.500000          3.000000   \n",
       "50%              9.020000           10.300000          4.000000   \n",
       "75%             10.560000           12.000000          6.000000   \n",
       "max             17.770000           20.000000         20.000000   \n",
       "\n",
       "       total_intl_charge  number_customer_service_calls  \n",
       "count        4250.000000                    4250.000000  \n",
       "mean            2.769654                       1.559059  \n",
       "std             0.745204                       1.311434  \n",
       "min             0.000000                       0.000000  \n",
       "25%             2.300000                       1.000000  \n",
       "50%             2.780000                       1.000000  \n",
       "75%             3.240000                       2.000000  \n",
       "max             5.400000                       9.000000  "
      ]
     },
     "execution_count": 5,
     "metadata": {},
     "output_type": "execute_result"
    }
   ],
   "source": [
    "df.describe()"
   ]
  },
  {
   "cell_type": "code",
   "execution_count": 6,
   "metadata": {
    "scrolled": false
   },
   "outputs": [
    {
     "name": "stdout",
     "output_type": "stream",
     "text": [
      "<class 'pandas.core.frame.DataFrame'>\n",
      "RangeIndex: 4250 entries, 0 to 4249\n",
      "Data columns (total 20 columns):\n",
      " #   Column                         Non-Null Count  Dtype  \n",
      "---  ------                         --------------  -----  \n",
      " 0   state                          4250 non-null   object \n",
      " 1   account_length                 4250 non-null   int64  \n",
      " 2   area_code                      4250 non-null   object \n",
      " 3   international_plan             4250 non-null   object \n",
      " 4   voice_mail_plan                4250 non-null   object \n",
      " 5   number_vmail_messages          4250 non-null   int64  \n",
      " 6   total_day_minutes              4250 non-null   float64\n",
      " 7   total_day_calls                4250 non-null   int64  \n",
      " 8   total_day_charge               4250 non-null   float64\n",
      " 9   total_eve_minutes              4250 non-null   float64\n",
      " 10  total_eve_calls                4250 non-null   int64  \n",
      " 11  total_eve_charge               4250 non-null   float64\n",
      " 12  total_night_minutes            4250 non-null   float64\n",
      " 13  total_night_calls              4250 non-null   int64  \n",
      " 14  total_night_charge             4250 non-null   float64\n",
      " 15  total_intl_minutes             4250 non-null   float64\n",
      " 16  total_intl_calls               4250 non-null   int64  \n",
      " 17  total_intl_charge              4250 non-null   float64\n",
      " 18  number_customer_service_calls  4250 non-null   int64  \n",
      " 19  churn                          4250 non-null   object \n",
      "dtypes: float64(8), int64(7), object(5)\n",
      "memory usage: 664.2+ KB\n"
     ]
    }
   ],
   "source": [
    "df.info()"
   ]
  },
  {
   "cell_type": "markdown",
   "metadata": {},
   "source": [
    "# 4. Podział zbioru na testowy i treningowy"
   ]
  },
  {
   "cell_type": "code",
   "execution_count": 7,
   "metadata": {},
   "outputs": [
    {
     "name": "stdout",
     "output_type": "stream",
     "text": [
      "Obserwacje w zbiorze treningowym: 2975\n",
      "Obserwacje w zbiorze testowym: 1275\n",
      "\n"
     ]
    }
   ],
   "source": [
    "train,test = train_test_split(df,test_size=0.3,stratify=df['churn'])\n",
    "print(f\"Obserwacje w zbiorze treningowym: {len(train)}\\nObserwacje w zbiorze testowym: {len(test)}\\n\")"
   ]
  },
  {
   "cell_type": "markdown",
   "metadata": {},
   "source": [
    "# 5. Analiza zmiennej celu"
   ]
  },
  {
   "cell_type": "code",
   "execution_count": 8,
   "metadata": {
    "scrolled": true
   },
   "outputs": [
    {
     "data": {
      "text/plain": [
       "no     0.85916\n",
       "yes    0.14084\n",
       "Name: churn, dtype: float64"
      ]
     },
     "execution_count": 8,
     "metadata": {},
     "output_type": "execute_result"
    }
   ],
   "source": [
    "train['churn'].value_counts(normalize=True)"
   ]
  },
  {
   "cell_type": "code",
   "execution_count": 9,
   "metadata": {
    "scrolled": false
   },
   "outputs": [
    {
     "data": {
      "image/png": "[encoded data removed]",
      "text/plain": [
       "<Figure size 360x360 with 1 Axes>"
      ]
     },
     "metadata": {},
     "output_type": "display_data"
    }
   ],
   "source": [
    "fig = plt.figure(1, figsize=(5,5))\n",
    "ax = fig.add_axes([0.1, 0.1, 0.8, 0.8])\n",
    "plt.title('Rozkład zmiennej churn', fontsize=20)\n",
    "\n",
    "patches, texts, autotexts = ax.pie(train['churn'].value_counts(), labels=['no', 'yes'], autopct='%1.1f%%',\n",
    "                                  shadow=True, startangle=140, colors=['lightpink', 'paleturquoise'])\n",
    "\n",
    "proptease = fm.FontProperties()\n",
    "proptease.set_size('xx-large')\n",
    "plt.setp(autotexts, fontproperties=proptease)\n",
    "plt.setp(texts, fontproperties=proptease)\n",
    "\n",
    "plt.show()"
   ]
  },
  {
   "cell_type": "markdown",
   "metadata": {},
   "source": [
    "###### Z powyższego wykresu możemy wywnioskować, że przeważają osoby, które nie churnują."
   ]
  },
  {
   "cell_type": "markdown",
   "metadata": {},
   "source": [
    "# 6. Opisowa analiza danych"
   ]
  },
  {
   "cell_type": "markdown",
   "metadata": {},
   "source": [
    "###### 6.1 Kolumny znakowe i zero-jedynkowe"
   ]
  },
  {
   "cell_type": "code",
   "execution_count": 10,
   "metadata": {
    "scrolled": true
   },
   "outputs": [
    {
     "data": {
      "text/plain": [
       "WV    93\n",
       "ID    73\n",
       "NJ    73\n",
       "AL    72\n",
       "VA    72\n",
       "MN    71\n",
       "NY    70\n",
       "ME    69\n",
       "CT    67\n",
       "OH    67\n",
       "UT    64\n",
       "WI    64\n",
       "KS    64\n",
       "OR    63\n",
       "NV    63\n",
       "WY    63\n",
       "TX    62\n",
       "MI    61\n",
       "KY    61\n",
       "IL    61\n",
       "MA    61\n",
       "VT    61\n",
       "MD    61\n",
       "RI    60\n",
       "NM    60\n",
       "TN    59\n",
       "DC    59\n",
       "OK    58\n",
       "MT    58\n",
       "WA    57\n",
       "MS    57\n",
       "HI    57\n",
       "NC    56\n",
       "DE    54\n",
       "SC    53\n",
       "NE    53\n",
       "NH    52\n",
       "IN    52\n",
       "SD    51\n",
       "MO    51\n",
       "FL    50\n",
       "ND    50\n",
       "AZ    50\n",
       "CO    50\n",
       "LA    49\n",
       "AR    49\n",
       "IA    46\n",
       "PA    45\n",
       "GA    41\n",
       "AK    39\n",
       "CA    23\n",
       "Name: state, dtype: int64"
      ]
     },
     "execution_count": 10,
     "metadata": {},
     "output_type": "execute_result"
    }
   ],
   "source": [
    "train['state'].value_counts()"
   ]
  },
  {
   "cell_type": "code",
   "execution_count": 11,
   "metadata": {
    "scrolled": true
   },
   "outputs": [
    {
     "data": {
      "text/plain": [
       "area_code_415    1482\n",
       "area_code_408     759\n",
       "area_code_510     734\n",
       "Name: area_code, dtype: int64"
      ]
     },
     "execution_count": 11,
     "metadata": {},
     "output_type": "execute_result"
    }
   ],
   "source": [
    "train['area_code'].value_counts()"
   ]
  },
  {
   "cell_type": "code",
   "execution_count": 12,
   "metadata": {},
   "outputs": [
    {
     "data": {
      "image/png": "[encoded data removed]",
      "text/plain": [
       "<Figure size 1440x504 with 1 Axes>"
      ]
     },
     "metadata": {
      "needs_background": "light"
     },
     "output_type": "display_data"
    },
    {
     "data": {
      "image/png": "[encoded data removed]",
      "text/plain": [
       "<Figure size 1440x504 with 1 Axes>"
      ]
     },
     "metadata": {
      "needs_background": "light"
     },
     "output_type": "display_data"
    },
    {
     "data": {
      "image/png": "[encoded data removed]",
      "text/plain": [
       "<Figure size 1440x504 with 1 Axes>"
      ]
     },
     "metadata": {
      "needs_background": "light"
     },
     "output_type": "display_data"
    },
    {
     "data": {
      "image/png": "[encoded data removed]",
      "text/plain": [
       "<Figure size 1440x504 with 1 Axes>"
      ]
     },
     "metadata": {
      "needs_background": "light"
     },
     "output_type": "display_data"
    }
   ],
   "source": [
    "char_cols = ['area_code','state','international_plan','voice_mail_plan']\n",
    "for i in char_cols:\n",
    "    cross = pd.crosstab(train[i], train['churn'])\n",
    "    totals = [i+j for i,j in zip(cross['no'], cross['yes'])]\n",
    "    yes = [i/j * 100 for i,j in zip(cross['yes'],totals)]\n",
    "    no = [i/j * 100 for i,j in zip(cross['no'], totals)]\n",
    "    \n",
    "    barWidth = 0.85\n",
    "    r = cross.index\n",
    "    plt.figure(figsize=(20,7))\n",
    "\n",
    "    colors = {0:'lightpink', 1:'paleturquoise'}         \n",
    "    labels = list(colors.keys())\n",
    "    handles = [plt.Rectangle((0,0),1,1, color=colors[label]) for label in labels]\n",
    "\n",
    "\n",
    "    plt.bar(r, yes, color='paleturquoise', width=barWidth)\n",
    "    plt.bar(r, no, bottom=yes, color='lightpink', width=barWidth)\n",
    "    plt.legend(handles, labels)\n",
    "    plt.xticks(r)\n",
    "    plt.xlabel(i)\n",
    "    plt.title(i)\n",
    "    plt.show()"
   ]
  },
  {
   "cell_type": "markdown",
   "metadata": {},
   "source": [
    "###### Stan NJ i CA ma najwięcej osób, które churnują, a stan IL ma najmniej takich osób. Zmienna area_code na pierwszy rzut oka wygląda, jakby nie różnicowała zmiennej celu. Osoby posiadająca plan międzynarodowy w większości churnują."
   ]
  },
  {
   "cell_type": "markdown",
   "metadata": {},
   "source": [
    "###### 6.2 Kolumny numeryczne"
   ]
  },
  {
   "cell_type": "code",
   "execution_count": 13,
   "metadata": {
    "scrolled": false
   },
   "outputs": [
    {
     "data": {
      "text/plain": [
       "['account_length',\n",
       " 'number_vmail_messages',\n",
       " 'total_day_minutes',\n",
       " 'total_day_calls',\n",
       " 'total_day_charge',\n",
       " 'total_eve_minutes',\n",
       " 'total_eve_calls',\n",
       " 'total_eve_charge',\n",
       " 'total_night_minutes',\n",
       " 'total_night_calls',\n",
       " 'total_night_charge',\n",
       " 'total_intl_minutes',\n",
       " 'total_intl_calls',\n",
       " 'total_intl_charge',\n",
       " 'number_customer_service_calls']"
      ]
     },
     "execution_count": 13,
     "metadata": {},
     "output_type": "execute_result"
    }
   ],
   "source": [
    "num_cols = [i for i in train.columns if i not in char_cols and i!= 'churn']\n",
    "num_cols"
   ]
  },
  {
   "cell_type": "code",
   "execution_count": 14,
   "metadata": {
    "scrolled": true
   },
   "outputs": [
    {
     "name": "stdout",
     "output_type": "stream",
     "text": [
      "account_length\n",
      "       account_length_yes  account_length_no\n",
      "count          419.000000        2556.000000\n",
      "mean           102.114558         100.579421\n",
      "std             38.590864          39.559734\n",
      "min              3.000000           1.000000\n",
      "25%             76.000000          73.000000\n",
      "50%            102.000000         100.000000\n",
      "75%            125.000000         127.000000\n",
      "max            225.000000         243.000000\n",
      "\n",
      "number_vmail_messages\n",
      "       number_vmail_messages_yes  number_vmail_messages_no\n",
      "count                 419.000000               2556.000000\n",
      "mean                    4.436754                  8.102504\n",
      "std                    11.349712                 13.618698\n",
      "min                     0.000000                  0.000000\n",
      "25%                     0.000000                  0.000000\n",
      "50%                     0.000000                  0.000000\n",
      "75%                     0.000000                 20.000000\n",
      "max                    48.000000                 52.000000\n",
      "\n",
      "total_day_minutes\n",
      "       total_day_minutes_yes  total_day_minutes_no\n",
      "count             419.000000           2556.000000\n",
      "mean              206.161814            176.435016\n",
      "std                68.810071             49.613919\n",
      "min                46.500000              2.600000\n",
      "25%               148.450000            143.175000\n",
      "50%               216.900000            178.400000\n",
      "75%               265.700000            211.400000\n",
      "max               351.500000            313.800000\n",
      "\n",
      "total_day_calls\n",
      "       total_day_calls_yes  total_day_calls_no\n",
      "count           419.000000         2556.000000\n",
      "mean            100.854415           99.920970\n",
      "std              20.030964           19.853022\n",
      "min              44.000000           30.000000\n",
      "25%              86.500000           87.000000\n",
      "50%             101.000000          100.000000\n",
      "75%             115.000000          113.000000\n",
      "max             160.000000          160.000000\n",
      "\n",
      "total_day_charge\n",
      "       total_day_charge_yes  total_day_charge_no\n",
      "count            419.000000          2556.000000\n",
      "mean              35.047828            29.994515\n",
      "std               11.698031             8.434332\n",
      "min                7.910000             0.440000\n",
      "25%               25.235000            24.337500\n",
      "50%               36.870000            30.330000\n",
      "75%               45.170000            35.940000\n",
      "max               59.760000            53.350000\n",
      "\n",
      "total_eve_minutes\n",
      "       total_eve_minutes_yes  total_eve_minutes_no\n",
      "count             419.000000           2556.000000\n",
      "mean              212.919570            198.503169\n",
      "std                51.552073             49.513051\n",
      "min                75.300000             37.800000\n",
      "25%               177.650000            164.400000\n",
      "50%               212.500000            198.350000\n",
      "75%               252.000000            231.250000\n",
      "max               349.400000            359.300000\n",
      "\n",
      "total_eve_calls\n",
      "       total_eve_calls_yes  total_eve_calls_no\n",
      "count           419.000000         2556.000000\n",
      "mean            100.582339          100.057903\n",
      "std              19.778069           19.997196\n",
      "min              48.000000           12.000000\n",
      "25%              87.000000           87.000000\n",
      "50%             100.000000          100.000000\n",
      "75%             114.000000          114.000000\n",
      "max             168.000000          170.000000\n",
      "\n",
      "total_eve_charge\n",
      "       total_eve_charge_yes  total_eve_charge_no\n",
      "count            419.000000          2556.000000\n",
      "mean              18.098377            16.873052\n",
      "std                4.381975             4.208648\n",
      "min                6.400000             3.210000\n",
      "25%               15.100000            13.970000\n",
      "50%               18.060000            16.860000\n",
      "75%               21.420000            19.655000\n",
      "max               29.700000            30.540000\n",
      "\n",
      "total_night_minutes\n",
      "       total_night_minutes_yes  total_night_minutes_no\n",
      "count               419.000000             2556.000000\n",
      "mean                205.133652              200.465063\n",
      "std                  47.864453               51.120635\n",
      "min                  47.400000                0.000000\n",
      "25%                 172.750000              166.700000\n",
      "50%                 204.400000              199.600000\n",
      "75%                 240.650000              235.300000\n",
      "max                 327.300000              381.900000\n",
      "\n",
      "total_night_calls\n",
      "       total_night_calls_yes  total_night_calls_no\n",
      "count             419.000000           2556.000000\n",
      "mean               99.274463             99.969484\n",
      "std                20.316835             19.682366\n",
      "min                42.000000              0.000000\n",
      "25%                84.000000             87.000000\n",
      "50%                99.000000            100.000000\n",
      "75%               115.000000            113.000000\n",
      "max               155.000000            164.000000\n",
      "\n",
      "total_night_charge\n",
      "       total_night_charge_yes  total_night_charge_no\n",
      "count              419.000000            2556.000000\n",
      "mean                 9.231074               9.021076\n",
      "std                  2.153928               2.300462\n",
      "min                  2.130000               0.000000\n",
      "25%                  7.775000               7.500000\n",
      "50%                  9.200000               8.980000\n",
      "75%                 10.830000              10.590000\n",
      "max                 14.730000              17.190000\n",
      "\n",
      "total_intl_minutes\n",
      "       total_intl_minutes_yes  total_intl_minutes_no\n",
      "count              419.000000            2556.000000\n",
      "mean                10.589260              10.117058\n",
      "std                  2.748136               2.766038\n",
      "min                  3.900000               0.000000\n",
      "25%                  8.800000               8.400000\n",
      "50%                 10.500000              10.200000\n",
      "75%                 12.600000              11.900000\n",
      "max                 20.000000              19.700000\n",
      "\n",
      "total_intl_calls\n",
      "       total_intl_calls_yes  total_intl_calls_no\n",
      "count            419.000000          2556.000000\n",
      "mean               4.124105             4.432707\n",
      "std                2.507189             2.461399\n",
      "min                1.000000             0.000000\n",
      "25%                2.000000             3.000000\n",
      "50%                4.000000             4.000000\n",
      "75%                5.000000             6.000000\n",
      "max               15.000000            18.000000\n",
      "\n",
      "total_intl_charge\n",
      "       total_intl_charge_yes  total_intl_charge_no\n",
      "count             419.000000           2556.000000\n",
      "mean                2.859618              2.732066\n",
      "std                 0.741898              0.746831\n",
      "min                 1.050000              0.000000\n",
      "25%                 2.380000              2.270000\n",
      "50%                 2.840000              2.750000\n",
      "75%                 3.400000              3.210000\n",
      "max                 5.400000              5.320000\n",
      "\n",
      "number_customer_service_calls\n",
      "       number_customer_service_calls_yes  number_customer_service_calls_no\n",
      "count                         419.000000                       2556.000000\n",
      "mean                            2.305489                          1.428795\n",
      "std                             1.861790                          1.148136\n",
      "min                             0.000000                          0.000000\n",
      "25%                             1.000000                          1.000000\n",
      "50%                             2.000000                          1.000000\n",
      "75%                             4.000000                          2.000000\n",
      "max                             9.000000                          7.000000\n",
      "\n"
     ]
    }
   ],
   "source": [
    "for i in num_cols:\n",
    "    a_df = pd.DataFrame()\n",
    "    a_df[i + '_yes'] = (train[train['churn'] == 'yes'][['churn', i]].describe())[i]\n",
    "    a_df[i + '_no'] = (train[train['churn'] == 'no'][['churn',i]].describe())[i]\n",
    "    print(i)\n",
    "    print(a_df)\n",
    "    print('')"
   ]
  },
  {
   "cell_type": "markdown",
   "metadata": {},
   "source": [
    "###### Porównując zmienne w podziale na to, czy churnują, czy nie staram się szukać największych dysproporcji między średnią, a medianą. Spora dysproporcja jest w ilości rozmów serwisowych, jeżeli było ich mniej to klient ma mniejsze prawdopodobieństwo żeby zchurnować. Bardzo dużą dysproporcją średnich charakteryzuje się liczba maili - osoby churnujące średnio wysyłały 11 maili,a osoby nie churnujące 8."
   ]
  },
  {
   "cell_type": "code",
   "execution_count": 15,
   "metadata": {
    "scrolled": true
   },
   "outputs": [
    {
     "data": {
      "image/png": "[encoded data removed]",
      "text/plain": [
       "<Figure size 432x288 with 1 Axes>"
      ]
     },
     "metadata": {
      "needs_background": "light"
     },
     "output_type": "display_data"
    },
    {
     "data": {
      "image/png": "[encoded data removed]",
      "text/plain": [
       "<Figure size 432x288 with 1 Axes>"
      ]
     },
     "metadata": {
      "needs_background": "light"
     },
     "output_type": "display_data"
    },
    {
     "data": {
      "image/png": "[encoded data removed]",
      "text/plain": [
       "<Figure size 432x288 with 1 Axes>"
      ]
     },
     "metadata": {
      "needs_background": "light"
     },
     "output_type": "display_data"
    },
    {
     "data": {
      "image/png": "[encoded data removed]",
      "text/plain": [
       "<Figure size 432x288 with 1 Axes>"
      ]
     },
     "metadata": {
      "needs_background": "light"
     },
     "output_type": "display_data"
    },
    {
     "data": {
      "image/png": "[encoded data removed]",
      "text/plain": [
       "<Figure size 432x288 with 1 Axes>"
      ]
     },
     "metadata": {
      "needs_background": "light"
     },
     "output_type": "display_data"
    },
    {
     "data": {
      "image/png": "[encoded data removed]",
      "text/plain": [
       "<Figure size 432x288 with 1 Axes>"
      ]
     },
     "metadata": {
      "needs_background": "light"
     },
     "output_type": "display_data"
    },
    {
     "data": {
      "image/png": "[encoded data removed]",
      "text/plain": [
       "<Figure size 432x288 with 1 Axes>"
      ]
     },
     "metadata": {
      "needs_background": "light"
     },
     "output_type": "display_data"
    },
    {
     "data": {
      "image/png": "[encoded data removed]",
      "text/plain": [
       "<Figure size 432x288 with 1 Axes>"
      ]
     },
     "metadata": {
      "needs_background": "light"
     },
     "output_type": "display_data"
    },
    {
     "data": {
      "image/png": "[encoded data removed]",
      "text/plain": [
       "<Figure size 432x288 with 1 Axes>"
      ]
     },
     "metadata": {
      "needs_background": "light"
     },
     "output_type": "display_data"
    },
    {
     "data": {
      "image/png": "[encoded data removed]",
      "text/plain": [
       "<Figure size 432x288 with 1 Axes>"
      ]
     },
     "metadata": {
      "needs_background": "light"
     },
     "output_type": "display_data"
    },
    {
     "data": {
      "image/png": "[encoded data removed]",
      "text/plain": [
       "<Figure size 432x288 with 1 Axes>"
      ]
     },
     "metadata": {
      "needs_background": "light"
     },
     "output_type": "display_data"
    },
    {
     "data": {
      "image/png": "[encoded data removed]",
      "text/plain": [
       "<Figure size 432x288 with 1 Axes>"
      ]
     },
     "metadata": {
      "needs_background": "light"
     },
     "output_type": "display_data"
    },
    {
     "data": {
      "image/png": "[encoded data removed]",
      "text/plain": [
       "<Figure size 432x288 with 1 Axes>"
      ]
     },
     "metadata": {
      "needs_background": "light"
     },
     "output_type": "display_data"
    },
    {
     "data": {
      "image/png": "[encoded data removed]",
      "text/plain": [
       "<Figure size 432x288 with 1 Axes>"
      ]
     },
     "metadata": {
      "needs_background": "light"
     },
     "output_type": "display_data"
    },
    {
     "data": {
      "image/png": "[encoded data removed]",
      "text/plain": [
       "<Figure size 432x288 with 1 Axes>"
      ]
     },
     "metadata": {
      "needs_background": "light"
     },
     "output_type": "display_data"
    }
   ],
   "source": [
    "for i in num_cols:\n",
    "    plt.hist(train[i])\n",
    "    plt.title(i)\n",
    "    plt.show()"
   ]
  },
  {
   "cell_type": "markdown",
   "metadata": {},
   "source": [
    "###### Większość zmiennych charakteryzuje się rozkładem podobnym do normalnego."
   ]
  },
  {
   "cell_type": "markdown",
   "metadata": {},
   "source": [
    "# 7. Podstawowe przekształcenia danych"
   ]
  },
  {
   "cell_type": "markdown",
   "metadata": {},
   "source": [
    "###### 7.1 Zmiana danych yes/no na 1/0"
   ]
  },
  {
   "cell_type": "code",
   "execution_count": 16,
   "metadata": {},
   "outputs": [
    {
     "name": "stderr",
     "output_type": "stream",
     "text": [
      "D:\\AnacondaReal\\lib\\site-packages\\ipykernel_launcher.py:4: SettingWithCopyWarning: \n",
      "A value is trying to be set on a copy of a slice from a DataFrame.\n",
      "Try using .loc[row_indexer,col_indexer] = value instead\n",
      "\n",
      "See the caveats in the documentation: https://pandas.pydata.org/pandas-docs/stable/user_guide/indexing.html#returning-a-view-versus-a-copy\n",
      "  after removing the cwd from sys.path.\n",
      "D:\\AnacondaReal\\lib\\site-packages\\ipykernel_launcher.py:5: SettingWithCopyWarning: \n",
      "A value is trying to be set on a copy of a slice from a DataFrame.\n",
      "Try using .loc[row_indexer,col_indexer] = value instead\n",
      "\n",
      "See the caveats in the documentation: https://pandas.pydata.org/pandas-docs/stable/user_guide/indexing.html#returning-a-view-versus-a-copy\n",
      "  \"\"\"\n"
     ]
    }
   ],
   "source": [
    "zmienneYesNo = ['international_plan','voice_mail_plan','churn']\n",
    "\n",
    "for zmienne in zmienneYesNo:\n",
    "    train[zmienne] = np.where(train[zmienne] == 'yes', 1, 0)\n",
    "    test[zmienne] = np.where(test[zmienne] == 'yes', 1, 0)"
   ]
  },
  {
   "cell_type": "code",
   "execution_count": 17,
   "metadata": {
    "scrolled": true
   },
   "outputs": [
    {
     "data": {
      "text/html": [
       "<div>\n",
       "<style scoped>\n",
       "    .dataframe tbody tr th:only-of-type {\n",
       "        vertical-align: middle;\n",
       "    }\n",
       "\n",
       "    .dataframe tbody tr th {\n",
       "        vertical-align: top;\n",
       "    }\n",
       "\n",
       "    .dataframe thead th {\n",
       "        text-align: right;\n",
       "    }\n",
       "</style>\n",
       "<table border=\"1\" class=\"dataframe\">\n",
       "  <thead>\n",
       "    <tr style=\"text-align: right;\">\n",
       "      <th></th>\n",
       "      <th>state</th>\n",
       "      <th>account_length</th>\n",
       "      <th>area_code</th>\n",
       "      <th>international_plan</th>\n",
       "      <th>voice_mail_plan</th>\n",
       "      <th>number_vmail_messages</th>\n",
       "      <th>total_day_minutes</th>\n",
       "      <th>total_day_calls</th>\n",
       "      <th>total_day_charge</th>\n",
       "      <th>total_eve_minutes</th>\n",
       "      <th>total_eve_calls</th>\n",
       "      <th>total_eve_charge</th>\n",
       "      <th>total_night_minutes</th>\n",
       "      <th>total_night_calls</th>\n",
       "      <th>total_night_charge</th>\n",
       "      <th>total_intl_minutes</th>\n",
       "      <th>total_intl_calls</th>\n",
       "      <th>total_intl_charge</th>\n",
       "      <th>number_customer_service_calls</th>\n",
       "      <th>churn</th>\n",
       "    </tr>\n",
       "  </thead>\n",
       "  <tbody>\n",
       "    <tr>\n",
       "      <th>3917</th>\n",
       "      <td>NY</td>\n",
       "      <td>57</td>\n",
       "      <td>area_code_510</td>\n",
       "      <td>0</td>\n",
       "      <td>1</td>\n",
       "      <td>25</td>\n",
       "      <td>144.0</td>\n",
       "      <td>81</td>\n",
       "      <td>24.48</td>\n",
       "      <td>187.2</td>\n",
       "      <td>112</td>\n",
       "      <td>15.91</td>\n",
       "      <td>158.6</td>\n",
       "      <td>122</td>\n",
       "      <td>7.14</td>\n",
       "      <td>8.5</td>\n",
       "      <td>6</td>\n",
       "      <td>2.30</td>\n",
       "      <td>3</td>\n",
       "      <td>0</td>\n",
       "    </tr>\n",
       "    <tr>\n",
       "      <th>2709</th>\n",
       "      <td>SD</td>\n",
       "      <td>30</td>\n",
       "      <td>area_code_415</td>\n",
       "      <td>0</td>\n",
       "      <td>0</td>\n",
       "      <td>0</td>\n",
       "      <td>247.4</td>\n",
       "      <td>107</td>\n",
       "      <td>42.06</td>\n",
       "      <td>175.9</td>\n",
       "      <td>76</td>\n",
       "      <td>14.95</td>\n",
       "      <td>287.4</td>\n",
       "      <td>90</td>\n",
       "      <td>12.93</td>\n",
       "      <td>11.3</td>\n",
       "      <td>2</td>\n",
       "      <td>3.05</td>\n",
       "      <td>0</td>\n",
       "      <td>0</td>\n",
       "    </tr>\n",
       "    <tr>\n",
       "      <th>1742</th>\n",
       "      <td>VT</td>\n",
       "      <td>101</td>\n",
       "      <td>area_code_415</td>\n",
       "      <td>0</td>\n",
       "      <td>0</td>\n",
       "      <td>0</td>\n",
       "      <td>136.2</td>\n",
       "      <td>92</td>\n",
       "      <td>23.15</td>\n",
       "      <td>220.9</td>\n",
       "      <td>110</td>\n",
       "      <td>18.78</td>\n",
       "      <td>196.9</td>\n",
       "      <td>116</td>\n",
       "      <td>8.86</td>\n",
       "      <td>13.3</td>\n",
       "      <td>7</td>\n",
       "      <td>3.59</td>\n",
       "      <td>3</td>\n",
       "      <td>0</td>\n",
       "    </tr>\n",
       "    <tr>\n",
       "      <th>1009</th>\n",
       "      <td>IL</td>\n",
       "      <td>78</td>\n",
       "      <td>area_code_415</td>\n",
       "      <td>1</td>\n",
       "      <td>0</td>\n",
       "      <td>0</td>\n",
       "      <td>236.8</td>\n",
       "      <td>141</td>\n",
       "      <td>40.26</td>\n",
       "      <td>265.3</td>\n",
       "      <td>101</td>\n",
       "      <td>22.55</td>\n",
       "      <td>152.4</td>\n",
       "      <td>77</td>\n",
       "      <td>6.86</td>\n",
       "      <td>9.5</td>\n",
       "      <td>2</td>\n",
       "      <td>2.57</td>\n",
       "      <td>1</td>\n",
       "      <td>1</td>\n",
       "    </tr>\n",
       "    <tr>\n",
       "      <th>1338</th>\n",
       "      <td>CT</td>\n",
       "      <td>89</td>\n",
       "      <td>area_code_415</td>\n",
       "      <td>0</td>\n",
       "      <td>0</td>\n",
       "      <td>0</td>\n",
       "      <td>82.3</td>\n",
       "      <td>77</td>\n",
       "      <td>13.99</td>\n",
       "      <td>167.2</td>\n",
       "      <td>80</td>\n",
       "      <td>14.21</td>\n",
       "      <td>194.7</td>\n",
       "      <td>70</td>\n",
       "      <td>8.76</td>\n",
       "      <td>7.2</td>\n",
       "      <td>4</td>\n",
       "      <td>1.94</td>\n",
       "      <td>1</td>\n",
       "      <td>0</td>\n",
       "    </tr>\n",
       "  </tbody>\n",
       "</table>\n",
       "</div>"
      ],
      "text/plain": [
       "     state  account_length      area_code  international_plan  \\\n",
       "3917    NY              57  area_code_510                   0   \n",
       "2709    SD              30  area_code_415                   0   \n",
       "1742    VT             101  area_code_415                   0   \n",
       "1009    IL              78  area_code_415                   1   \n",
       "1338    CT              89  area_code_415                   0   \n",
       "\n",
       "      voice_mail_plan  number_vmail_messages  total_day_minutes  \\\n",
       "3917                1                     25              144.0   \n",
       "2709                0                      0              247.4   \n",
       "1742                0                      0              136.2   \n",
       "1009                0                      0              236.8   \n",
       "1338                0                      0               82.3   \n",
       "\n",
       "      total_day_calls  total_day_charge  total_eve_minutes  total_eve_calls  \\\n",
       "3917               81             24.48              187.2              112   \n",
       "2709              107             42.06              175.9               76   \n",
       "1742               92             23.15              220.9              110   \n",
       "1009              141             40.26              265.3              101   \n",
       "1338               77             13.99              167.2               80   \n",
       "\n",
       "      total_eve_charge  total_night_minutes  total_night_calls  \\\n",
       "3917             15.91                158.6                122   \n",
       "2709             14.95                287.4                 90   \n",
       "1742             18.78                196.9                116   \n",
       "1009             22.55                152.4                 77   \n",
       "1338             14.21                194.7                 70   \n",
       "\n",
       "      total_night_charge  total_intl_minutes  total_intl_calls  \\\n",
       "3917                7.14                 8.5                 6   \n",
       "2709               12.93                11.3                 2   \n",
       "1742                8.86                13.3                 7   \n",
       "1009                6.86                 9.5                 2   \n",
       "1338                8.76                 7.2                 4   \n",
       "\n",
       "      total_intl_charge  number_customer_service_calls  churn  \n",
       "3917               2.30                              3      0  \n",
       "2709               3.05                              0      0  \n",
       "1742               3.59                              3      0  \n",
       "1009               2.57                              1      1  \n",
       "1338               1.94                              1      0  "
      ]
     },
     "execution_count": 17,
     "metadata": {},
     "output_type": "execute_result"
    }
   ],
   "source": [
    "train.head()"
   ]
  },
  {
   "cell_type": "markdown",
   "metadata": {},
   "source": [
    "###### 7.2 Dumifikacja kolumn znakowych - przekształcenie ich do kolumn 0/1"
   ]
  },
  {
   "cell_type": "code",
   "execution_count": 18,
   "metadata": {},
   "outputs": [],
   "source": [
    "to_dummify=['state','area_code']\n",
    "\n",
    "for i in to_dummify:\n",
    "    dummy = pd.get_dummies(train[i], prefix = i)\n",
    "    dummy_test = pd.get_dummies(test[i], prefix = i)\n",
    "    mask = pd.DataFrame(train[i].value_counts(sort=True)).index[0] \n",
    "    dummy.drop(i+'_'+mask, inplace=True, axis=1)\n",
    "    dummy_test.drop(i+'_'+mask, inplace=True, axis=1)\n",
    "    train = pd.concat([train,dummy], axis=1)\n",
    "    test = pd.concat([test, dummy_test], axis=1)\n",
    "    train.drop(i, inplace=True, axis=1)\n",
    "    test.drop(i, inplace=True, axis=1)"
   ]
  },
  {
   "cell_type": "markdown",
   "metadata": {},
   "source": [
    "###### Podczas dumifikacji upewniam się, że liczba zmiennych w zbiorze testowym i treningowym zmniejszyła się o 1 (po wykonaniu dumifikacji)"
   ]
  },
  {
   "cell_type": "code",
   "execution_count": 19,
   "metadata": {},
   "outputs": [
    {
     "data": {
      "text/html": [
       "<div>\n",
       "<style scoped>\n",
       "    .dataframe tbody tr th:only-of-type {\n",
       "        vertical-align: middle;\n",
       "    }\n",
       "\n",
       "    .dataframe tbody tr th {\n",
       "        vertical-align: top;\n",
       "    }\n",
       "\n",
       "    .dataframe thead th {\n",
       "        text-align: right;\n",
       "    }\n",
       "</style>\n",
       "<table border=\"1\" class=\"dataframe\">\n",
       "  <thead>\n",
       "    <tr style=\"text-align: right;\">\n",
       "      <th></th>\n",
       "      <th>account_length</th>\n",
       "      <th>international_plan</th>\n",
       "      <th>voice_mail_plan</th>\n",
       "      <th>number_vmail_messages</th>\n",
       "      <th>total_day_minutes</th>\n",
       "      <th>total_day_calls</th>\n",
       "      <th>total_day_charge</th>\n",
       "      <th>total_eve_minutes</th>\n",
       "      <th>total_eve_calls</th>\n",
       "      <th>total_eve_charge</th>\n",
       "      <th>...</th>\n",
       "      <th>state_TN</th>\n",
       "      <th>state_TX</th>\n",
       "      <th>state_UT</th>\n",
       "      <th>state_VA</th>\n",
       "      <th>state_VT</th>\n",
       "      <th>state_WA</th>\n",
       "      <th>state_WI</th>\n",
       "      <th>state_WY</th>\n",
       "      <th>area_code_area_code_408</th>\n",
       "      <th>area_code_area_code_510</th>\n",
       "    </tr>\n",
       "  </thead>\n",
       "  <tbody>\n",
       "    <tr>\n",
       "      <th>3917</th>\n",
       "      <td>57</td>\n",
       "      <td>0</td>\n",
       "      <td>1</td>\n",
       "      <td>25</td>\n",
       "      <td>144.0</td>\n",
       "      <td>81</td>\n",
       "      <td>24.48</td>\n",
       "      <td>187.2</td>\n",
       "      <td>112</td>\n",
       "      <td>15.91</td>\n",
       "      <td>...</td>\n",
       "      <td>0</td>\n",
       "      <td>0</td>\n",
       "      <td>0</td>\n",
       "      <td>0</td>\n",
       "      <td>0</td>\n",
       "      <td>0</td>\n",
       "      <td>0</td>\n",
       "      <td>0</td>\n",
       "      <td>0</td>\n",
       "      <td>1</td>\n",
       "    </tr>\n",
       "    <tr>\n",
       "      <th>2709</th>\n",
       "      <td>30</td>\n",
       "      <td>0</td>\n",
       "      <td>0</td>\n",
       "      <td>0</td>\n",
       "      <td>247.4</td>\n",
       "      <td>107</td>\n",
       "      <td>42.06</td>\n",
       "      <td>175.9</td>\n",
       "      <td>76</td>\n",
       "      <td>14.95</td>\n",
       "      <td>...</td>\n",
       "      <td>0</td>\n",
       "      <td>0</td>\n",
       "      <td>0</td>\n",
       "      <td>0</td>\n",
       "      <td>0</td>\n",
       "      <td>0</td>\n",
       "      <td>0</td>\n",
       "      <td>0</td>\n",
       "      <td>0</td>\n",
       "      <td>0</td>\n",
       "    </tr>\n",
       "    <tr>\n",
       "      <th>1742</th>\n",
       "      <td>101</td>\n",
       "      <td>0</td>\n",
       "      <td>0</td>\n",
       "      <td>0</td>\n",
       "      <td>136.2</td>\n",
       "      <td>92</td>\n",
       "      <td>23.15</td>\n",
       "      <td>220.9</td>\n",
       "      <td>110</td>\n",
       "      <td>18.78</td>\n",
       "      <td>...</td>\n",
       "      <td>0</td>\n",
       "      <td>0</td>\n",
       "      <td>0</td>\n",
       "      <td>0</td>\n",
       "      <td>1</td>\n",
       "      <td>0</td>\n",
       "      <td>0</td>\n",
       "      <td>0</td>\n",
       "      <td>0</td>\n",
       "      <td>0</td>\n",
       "    </tr>\n",
       "    <tr>\n",
       "      <th>1009</th>\n",
       "      <td>78</td>\n",
       "      <td>1</td>\n",
       "      <td>0</td>\n",
       "      <td>0</td>\n",
       "      <td>236.8</td>\n",
       "      <td>141</td>\n",
       "      <td>40.26</td>\n",
       "      <td>265.3</td>\n",
       "      <td>101</td>\n",
       "      <td>22.55</td>\n",
       "      <td>...</td>\n",
       "      <td>0</td>\n",
       "      <td>0</td>\n",
       "      <td>0</td>\n",
       "      <td>0</td>\n",
       "      <td>0</td>\n",
       "      <td>0</td>\n",
       "      <td>0</td>\n",
       "      <td>0</td>\n",
       "      <td>0</td>\n",
       "      <td>0</td>\n",
       "    </tr>\n",
       "    <tr>\n",
       "      <th>1338</th>\n",
       "      <td>89</td>\n",
       "      <td>0</td>\n",
       "      <td>0</td>\n",
       "      <td>0</td>\n",
       "      <td>82.3</td>\n",
       "      <td>77</td>\n",
       "      <td>13.99</td>\n",
       "      <td>167.2</td>\n",
       "      <td>80</td>\n",
       "      <td>14.21</td>\n",
       "      <td>...</td>\n",
       "      <td>0</td>\n",
       "      <td>0</td>\n",
       "      <td>0</td>\n",
       "      <td>0</td>\n",
       "      <td>0</td>\n",
       "      <td>0</td>\n",
       "      <td>0</td>\n",
       "      <td>0</td>\n",
       "      <td>0</td>\n",
       "      <td>0</td>\n",
       "    </tr>\n",
       "  </tbody>\n",
       "</table>\n",
       "<p>5 rows × 70 columns</p>\n",
       "</div>"
      ],
      "text/plain": [
       "      account_length  international_plan  voice_mail_plan  \\\n",
       "3917              57                   0                1   \n",
       "2709              30                   0                0   \n",
       "1742             101                   0                0   \n",
       "1009              78                   1                0   \n",
       "1338              89                   0                0   \n",
       "\n",
       "      number_vmail_messages  total_day_minutes  total_day_calls  \\\n",
       "3917                     25              144.0               81   \n",
       "2709                      0              247.4              107   \n",
       "1742                      0              136.2               92   \n",
       "1009                      0              236.8              141   \n",
       "1338                      0               82.3               77   \n",
       "\n",
       "      total_day_charge  total_eve_minutes  total_eve_calls  total_eve_charge  \\\n",
       "3917             24.48              187.2              112             15.91   \n",
       "2709             42.06              175.9               76             14.95   \n",
       "1742             23.15              220.9              110             18.78   \n",
       "1009             40.26              265.3              101             22.55   \n",
       "1338             13.99              167.2               80             14.21   \n",
       "\n",
       "      ...  state_TN  state_TX  state_UT  state_VA  state_VT  state_WA  \\\n",
       "3917  ...         0         0         0         0         0         0   \n",
       "2709  ...         0         0         0         0         0         0   \n",
       "1742  ...         0         0         0         0         1         0   \n",
       "1009  ...         0         0         0         0         0         0   \n",
       "1338  ...         0         0         0         0         0         0   \n",
       "\n",
       "      state_WI  state_WY  area_code_area_code_408  area_code_area_code_510  \n",
       "3917         0         0                        0                        1  \n",
       "2709         0         0                        0                        0  \n",
       "1742         0         0                        0                        0  \n",
       "1009         0         0                        0                        0  \n",
       "1338         0         0                        0                        0  \n",
       "\n",
       "[5 rows x 70 columns]"
      ]
     },
     "execution_count": 19,
     "metadata": {},
     "output_type": "execute_result"
    }
   ],
   "source": [
    "train.head()"
   ]
  },
  {
   "cell_type": "code",
   "execution_count": 20,
   "metadata": {
    "scrolled": true
   },
   "outputs": [
    {
     "data": {
      "text/html": [
       "<div>\n",
       "<style scoped>\n",
       "    .dataframe tbody tr th:only-of-type {\n",
       "        vertical-align: middle;\n",
       "    }\n",
       "\n",
       "    .dataframe tbody tr th {\n",
       "        vertical-align: top;\n",
       "    }\n",
       "\n",
       "    .dataframe thead th {\n",
       "        text-align: right;\n",
       "    }\n",
       "</style>\n",
       "<table border=\"1\" class=\"dataframe\">\n",
       "  <thead>\n",
       "    <tr style=\"text-align: right;\">\n",
       "      <th></th>\n",
       "      <th>account_length</th>\n",
       "      <th>international_plan</th>\n",
       "      <th>voice_mail_plan</th>\n",
       "      <th>number_vmail_messages</th>\n",
       "      <th>total_day_minutes</th>\n",
       "      <th>total_day_calls</th>\n",
       "      <th>total_day_charge</th>\n",
       "      <th>total_eve_minutes</th>\n",
       "      <th>total_eve_calls</th>\n",
       "      <th>total_eve_charge</th>\n",
       "      <th>...</th>\n",
       "      <th>state_TN</th>\n",
       "      <th>state_TX</th>\n",
       "      <th>state_UT</th>\n",
       "      <th>state_VA</th>\n",
       "      <th>state_VT</th>\n",
       "      <th>state_WA</th>\n",
       "      <th>state_WI</th>\n",
       "      <th>state_WY</th>\n",
       "      <th>area_code_area_code_408</th>\n",
       "      <th>area_code_area_code_510</th>\n",
       "    </tr>\n",
       "  </thead>\n",
       "  <tbody>\n",
       "    <tr>\n",
       "      <th>3344</th>\n",
       "      <td>68</td>\n",
       "      <td>0</td>\n",
       "      <td>0</td>\n",
       "      <td>0</td>\n",
       "      <td>267.9</td>\n",
       "      <td>80</td>\n",
       "      <td>45.54</td>\n",
       "      <td>145.4</td>\n",
       "      <td>143</td>\n",
       "      <td>12.36</td>\n",
       "      <td>...</td>\n",
       "      <td>0</td>\n",
       "      <td>0</td>\n",
       "      <td>0</td>\n",
       "      <td>0</td>\n",
       "      <td>0</td>\n",
       "      <td>0</td>\n",
       "      <td>0</td>\n",
       "      <td>0</td>\n",
       "      <td>0</td>\n",
       "      <td>0</td>\n",
       "    </tr>\n",
       "    <tr>\n",
       "      <th>1801</th>\n",
       "      <td>81</td>\n",
       "      <td>0</td>\n",
       "      <td>0</td>\n",
       "      <td>0</td>\n",
       "      <td>154.5</td>\n",
       "      <td>84</td>\n",
       "      <td>26.27</td>\n",
       "      <td>216.2</td>\n",
       "      <td>91</td>\n",
       "      <td>18.38</td>\n",
       "      <td>...</td>\n",
       "      <td>0</td>\n",
       "      <td>0</td>\n",
       "      <td>1</td>\n",
       "      <td>0</td>\n",
       "      <td>0</td>\n",
       "      <td>0</td>\n",
       "      <td>0</td>\n",
       "      <td>0</td>\n",
       "      <td>0</td>\n",
       "      <td>1</td>\n",
       "    </tr>\n",
       "    <tr>\n",
       "      <th>1782</th>\n",
       "      <td>112</td>\n",
       "      <td>0</td>\n",
       "      <td>1</td>\n",
       "      <td>30</td>\n",
       "      <td>60.6</td>\n",
       "      <td>113</td>\n",
       "      <td>10.30</td>\n",
       "      <td>165.9</td>\n",
       "      <td>96</td>\n",
       "      <td>14.10</td>\n",
       "      <td>...</td>\n",
       "      <td>0</td>\n",
       "      <td>0</td>\n",
       "      <td>0</td>\n",
       "      <td>0</td>\n",
       "      <td>0</td>\n",
       "      <td>0</td>\n",
       "      <td>0</td>\n",
       "      <td>0</td>\n",
       "      <td>1</td>\n",
       "      <td>0</td>\n",
       "    </tr>\n",
       "    <tr>\n",
       "      <th>1714</th>\n",
       "      <td>119</td>\n",
       "      <td>0</td>\n",
       "      <td>0</td>\n",
       "      <td>0</td>\n",
       "      <td>154.5</td>\n",
       "      <td>129</td>\n",
       "      <td>26.27</td>\n",
       "      <td>193.6</td>\n",
       "      <td>87</td>\n",
       "      <td>16.46</td>\n",
       "      <td>...</td>\n",
       "      <td>0</td>\n",
       "      <td>0</td>\n",
       "      <td>0</td>\n",
       "      <td>0</td>\n",
       "      <td>0</td>\n",
       "      <td>0</td>\n",
       "      <td>0</td>\n",
       "      <td>0</td>\n",
       "      <td>0</td>\n",
       "      <td>1</td>\n",
       "    </tr>\n",
       "    <tr>\n",
       "      <th>911</th>\n",
       "      <td>105</td>\n",
       "      <td>0</td>\n",
       "      <td>1</td>\n",
       "      <td>42</td>\n",
       "      <td>101.9</td>\n",
       "      <td>79</td>\n",
       "      <td>17.32</td>\n",
       "      <td>223.1</td>\n",
       "      <td>97</td>\n",
       "      <td>18.96</td>\n",
       "      <td>...</td>\n",
       "      <td>0</td>\n",
       "      <td>0</td>\n",
       "      <td>0</td>\n",
       "      <td>0</td>\n",
       "      <td>0</td>\n",
       "      <td>0</td>\n",
       "      <td>0</td>\n",
       "      <td>0</td>\n",
       "      <td>0</td>\n",
       "      <td>1</td>\n",
       "    </tr>\n",
       "  </tbody>\n",
       "</table>\n",
       "<p>5 rows × 70 columns</p>\n",
       "</div>"
      ],
      "text/plain": [
       "      account_length  international_plan  voice_mail_plan  \\\n",
       "3344              68                   0                0   \n",
       "1801              81                   0                0   \n",
       "1782             112                   0                1   \n",
       "1714             119                   0                0   \n",
       "911              105                   0                1   \n",
       "\n",
       "      number_vmail_messages  total_day_minutes  total_day_calls  \\\n",
       "3344                      0              267.9               80   \n",
       "1801                      0              154.5               84   \n",
       "1782                     30               60.6              113   \n",
       "1714                      0              154.5              129   \n",
       "911                      42              101.9               79   \n",
       "\n",
       "      total_day_charge  total_eve_minutes  total_eve_calls  total_eve_charge  \\\n",
       "3344             45.54              145.4              143             12.36   \n",
       "1801             26.27              216.2               91             18.38   \n",
       "1782             10.30              165.9               96             14.10   \n",
       "1714             26.27              193.6               87             16.46   \n",
       "911              17.32              223.1               97             18.96   \n",
       "\n",
       "      ...  state_TN  state_TX  state_UT  state_VA  state_VT  state_WA  \\\n",
       "3344  ...         0         0         0         0         0         0   \n",
       "1801  ...         0         0         1         0         0         0   \n",
       "1782  ...         0         0         0         0         0         0   \n",
       "1714  ...         0         0         0         0         0         0   \n",
       "911   ...         0         0         0         0         0         0   \n",
       "\n",
       "      state_WI  state_WY  area_code_area_code_408  area_code_area_code_510  \n",
       "3344         0         0                        0                        0  \n",
       "1801         0         0                        0                        1  \n",
       "1782         0         0                        1                        0  \n",
       "1714         0         0                        0                        1  \n",
       "911          0         0                        0                        1  \n",
       "\n",
       "[5 rows x 70 columns]"
      ]
     },
     "execution_count": 20,
     "metadata": {},
     "output_type": "execute_result"
    }
   ],
   "source": [
    "test.head()"
   ]
  },
  {
   "cell_type": "markdown",
   "metadata": {},
   "source": [
    "###### 7.3 Wybór zmiennych, których udział jest większy niż 1,5% "
   ]
  },
  {
   "cell_type": "markdown",
   "metadata": {},
   "source": [
    "###### Poniżej planuję wyrzucić ze zbioru zmienne, których udział jest niewiększy niż 1.5%"
   ]
  },
  {
   "cell_type": "code",
   "execution_count": 21,
   "metadata": {
    "scrolled": true
   },
   "outputs": [
    {
     "data": {
      "text/plain": [
       "['international_plan',\n",
       " 'voice_mail_plan',\n",
       " 'state_AK',\n",
       " 'state_AL',\n",
       " 'state_AR',\n",
       " 'state_AZ',\n",
       " 'state_CA',\n",
       " 'state_CO',\n",
       " 'state_CT',\n",
       " 'state_DC',\n",
       " 'state_DE',\n",
       " 'state_FL',\n",
       " 'state_GA',\n",
       " 'state_HI',\n",
       " 'state_IA',\n",
       " 'state_ID',\n",
       " 'state_IL',\n",
       " 'state_IN',\n",
       " 'state_KS',\n",
       " 'state_KY',\n",
       " 'state_LA',\n",
       " 'state_MA',\n",
       " 'state_MD',\n",
       " 'state_ME',\n",
       " 'state_MI',\n",
       " 'state_MN',\n",
       " 'state_MO',\n",
       " 'state_MS',\n",
       " 'state_MT',\n",
       " 'state_NC',\n",
       " 'state_ND',\n",
       " 'state_NE',\n",
       " 'state_NH',\n",
       " 'state_NJ',\n",
       " 'state_NM',\n",
       " 'state_NV',\n",
       " 'state_NY',\n",
       " 'state_OH',\n",
       " 'state_OK',\n",
       " 'state_OR',\n",
       " 'state_PA',\n",
       " 'state_RI',\n",
       " 'state_SC',\n",
       " 'state_SD',\n",
       " 'state_TN',\n",
       " 'state_TX',\n",
       " 'state_UT',\n",
       " 'state_VA',\n",
       " 'state_VT',\n",
       " 'state_WA',\n",
       " 'state_WI',\n",
       " 'state_WY',\n",
       " 'area_code_area_code_408',\n",
       " 'area_code_area_code_510']"
      ]
     },
     "execution_count": 21,
     "metadata": {},
     "output_type": "execute_result"
    }
   ],
   "source": [
    "bin_col = list()\n",
    "for i in train.columns:\n",
    "    if (len(train[i].value_counts()) == 2) & (i != 'churn'):\n",
    "        bin_col.append(i)\n",
    "bin_col"
   ]
  },
  {
   "cell_type": "code",
   "execution_count": 22,
   "metadata": {
    "scrolled": true
   },
   "outputs": [
    {
     "name": "stdout",
     "output_type": "stream",
     "text": [
      " \n",
      "international_plan\n",
      "0    0.90521\n",
      "1    0.09479\n",
      "Name: international_plan, dtype: float64\n",
      " \n",
      "voice_mail_plan\n",
      "0    0.73916\n",
      "1    0.26084\n",
      "Name: voice_mail_plan, dtype: float64\n",
      " \n",
      "state_AK\n",
      "0    0.986891\n",
      "1    0.013109\n",
      "Name: state_AK, dtype: float64\n",
      "state_AK\n",
      "0    0.986891\n",
      "1    0.013109\n",
      "Name: state_AK, dtype: float64\n",
      " \n",
      "state_AL\n",
      "0    0.975798\n",
      "1    0.024202\n",
      "Name: state_AL, dtype: float64\n",
      " \n",
      "state_AR\n",
      "0    0.983529\n",
      "1    0.016471\n",
      "Name: state_AR, dtype: float64\n",
      " \n",
      "state_AZ\n",
      "0    0.983193\n",
      "1    0.016807\n",
      "Name: state_AZ, dtype: float64\n",
      " \n",
      "state_CA\n",
      "0    0.992269\n",
      "1    0.007731\n",
      "Name: state_CA, dtype: float64\n",
      "state_CA\n",
      "0    0.992269\n",
      "1    0.007731\n",
      "Name: state_CA, dtype: float64\n",
      " \n",
      "state_CO\n",
      "0    0.983193\n",
      "1    0.016807\n",
      "Name: state_CO, dtype: float64\n",
      " \n",
      "state_CT\n",
      "0    0.977479\n",
      "1    0.022521\n",
      "Name: state_CT, dtype: float64\n",
      " \n",
      "state_DC\n",
      "0    0.980168\n",
      "1    0.019832\n",
      "Name: state_DC, dtype: float64\n",
      " \n",
      "state_DE\n",
      "0    0.981849\n",
      "1    0.018151\n",
      "Name: state_DE, dtype: float64\n",
      " \n",
      "state_FL\n",
      "0    0.983193\n",
      "1    0.016807\n",
      "Name: state_FL, dtype: float64\n",
      " \n",
      "state_GA\n",
      "0    0.986218\n",
      "1    0.013782\n",
      "Name: state_GA, dtype: float64\n",
      "state_GA\n",
      "0    0.986218\n",
      "1    0.013782\n",
      "Name: state_GA, dtype: float64\n",
      " \n",
      "state_HI\n",
      "0    0.98084\n",
      "1    0.01916\n",
      "Name: state_HI, dtype: float64\n",
      " \n",
      "state_IA\n",
      "0    0.984538\n",
      "1    0.015462\n",
      "Name: state_IA, dtype: float64\n",
      " \n",
      "state_ID\n",
      "0    0.975462\n",
      "1    0.024538\n",
      "Name: state_ID, dtype: float64\n",
      " \n",
      "state_IL\n",
      "0    0.979496\n",
      "1    0.020504\n",
      "Name: state_IL, dtype: float64\n",
      " \n",
      "state_IN\n",
      "0    0.982521\n",
      "1    0.017479\n",
      "Name: state_IN, dtype: float64\n",
      " \n",
      "state_KS\n",
      "0    0.978487\n",
      "1    0.021513\n",
      "Name: state_KS, dtype: float64\n",
      " \n",
      "state_KY\n",
      "0    0.979496\n",
      "1    0.020504\n",
      "Name: state_KY, dtype: float64\n",
      " \n",
      "state_LA\n",
      "0    0.983529\n",
      "1    0.016471\n",
      "Name: state_LA, dtype: float64\n",
      " \n",
      "state_MA\n",
      "0    0.979496\n",
      "1    0.020504\n",
      "Name: state_MA, dtype: float64\n",
      " \n",
      "state_MD\n",
      "0    0.979496\n",
      "1    0.020504\n",
      "Name: state_MD, dtype: float64\n",
      " \n",
      "state_ME\n",
      "0    0.976807\n",
      "1    0.023193\n",
      "Name: state_ME, dtype: float64\n",
      " \n",
      "state_MI\n",
      "0    0.979496\n",
      "1    0.020504\n",
      "Name: state_MI, dtype: float64\n",
      " \n",
      "state_MN\n",
      "0    0.976134\n",
      "1    0.023866\n",
      "Name: state_MN, dtype: float64\n",
      " \n",
      "state_MO\n",
      "0    0.982857\n",
      "1    0.017143\n",
      "Name: state_MO, dtype: float64\n",
      " \n",
      "state_MS\n",
      "0    0.98084\n",
      "1    0.01916\n",
      "Name: state_MS, dtype: float64\n",
      " \n",
      "state_MT\n",
      "0    0.980504\n",
      "1    0.019496\n",
      "Name: state_MT, dtype: float64\n",
      " \n",
      "state_NC\n",
      "0    0.981176\n",
      "1    0.018824\n",
      "Name: state_NC, dtype: float64\n",
      " \n",
      "state_ND\n",
      "0    0.983193\n",
      "1    0.016807\n",
      "Name: state_ND, dtype: float64\n",
      " \n",
      "state_NE\n",
      "0    0.982185\n",
      "1    0.017815\n",
      "Name: state_NE, dtype: float64\n",
      " \n",
      "state_NH\n",
      "0    0.982521\n",
      "1    0.017479\n",
      "Name: state_NH, dtype: float64\n",
      " \n",
      "state_NJ\n",
      "0    0.975462\n",
      "1    0.024538\n",
      "Name: state_NJ, dtype: float64\n",
      " \n",
      "state_NM\n",
      "0    0.979832\n",
      "1    0.020168\n",
      "Name: state_NM, dtype: float64\n",
      " \n",
      "state_NV\n",
      "0    0.978824\n",
      "1    0.021176\n",
      "Name: state_NV, dtype: float64\n",
      " \n",
      "state_NY\n",
      "0    0.976471\n",
      "1    0.023529\n",
      "Name: state_NY, dtype: float64\n",
      " \n",
      "state_OH\n",
      "0    0.977479\n",
      "1    0.022521\n",
      "Name: state_OH, dtype: float64\n",
      " \n",
      "state_OK\n",
      "0    0.980504\n",
      "1    0.019496\n",
      "Name: state_OK, dtype: float64\n",
      " \n",
      "state_OR\n",
      "0    0.978824\n",
      "1    0.021176\n",
      "Name: state_OR, dtype: float64\n",
      " \n",
      "state_PA\n",
      "0    0.984874\n",
      "1    0.015126\n",
      "Name: state_PA, dtype: float64\n",
      " \n",
      "state_RI\n",
      "0    0.979832\n",
      "1    0.020168\n",
      "Name: state_RI, dtype: float64\n",
      " \n",
      "state_SC\n",
      "0    0.982185\n",
      "1    0.017815\n",
      "Name: state_SC, dtype: float64\n",
      " \n",
      "state_SD\n",
      "0    0.982857\n",
      "1    0.017143\n",
      "Name: state_SD, dtype: float64\n",
      " \n",
      "state_TN\n",
      "0    0.980168\n",
      "1    0.019832\n",
      "Name: state_TN, dtype: float64\n",
      " \n",
      "state_TX\n",
      "0    0.97916\n",
      "1    0.02084\n",
      "Name: state_TX, dtype: float64\n",
      " \n",
      "state_UT\n",
      "0    0.978487\n",
      "1    0.021513\n",
      "Name: state_UT, dtype: float64\n",
      " \n",
      "state_VA\n",
      "0    0.975798\n",
      "1    0.024202\n",
      "Name: state_VA, dtype: float64\n",
      " \n",
      "state_VT\n",
      "0    0.979496\n",
      "1    0.020504\n",
      "Name: state_VT, dtype: float64\n",
      " \n",
      "state_WA\n",
      "0    0.98084\n",
      "1    0.01916\n",
      "Name: state_WA, dtype: float64\n",
      " \n",
      "state_WI\n",
      "0    0.978487\n",
      "1    0.021513\n",
      "Name: state_WI, dtype: float64\n",
      " \n",
      "state_WY\n",
      "0    0.978824\n",
      "1    0.021176\n",
      "Name: state_WY, dtype: float64\n",
      " \n",
      "area_code_area_code_408\n",
      "0    0.744874\n",
      "1    0.255126\n",
      "Name: area_code_area_code_408, dtype: float64\n",
      " \n",
      "area_code_area_code_510\n",
      "0    0.753277\n",
      "1    0.246723\n",
      "Name: area_code_area_code_510, dtype: float64\n"
     ]
    }
   ],
   "source": [
    "zdegenerowane = []\n",
    "for col in bin_col:\n",
    "    x = train[col].value_counts() / train[col].value_counts().sum()\n",
    "    print(\" \")\n",
    "    print(col)\n",
    "    print(x)\n",
    "    \n",
    "    if x.iloc[0] <= 0.015 or x.iloc[1] <= 0.015:\n",
    "        print(col)\n",
    "        print(x)\n",
    "        zdegenerowane.append(col)\n",
    "    \n",
    "   "
   ]
  },
  {
   "cell_type": "code",
   "execution_count": 23,
   "metadata": {},
   "outputs": [
    {
     "data": {
      "text/plain": [
       "['state_AK', 'state_CA', 'state_GA']"
      ]
     },
     "execution_count": 23,
     "metadata": {},
     "output_type": "execute_result"
    }
   ],
   "source": [
    "zdegenerowane"
   ]
  },
  {
   "cell_type": "code",
   "execution_count": 25,
   "metadata": {},
   "outputs": [],
   "source": [
    "train.drop(zdegenerowane,axis=1,inplace=True)\n",
    "test.drop(zdegenerowane,axis=1,inplace=True)"
   ]
  },
  {
   "cell_type": "markdown",
   "metadata": {},
   "source": [
    "###### 7.4 Badanie korelacji ze zmienną celu"
   ]
  },
  {
   "cell_type": "code",
   "execution_count": 26,
   "metadata": {
    "scrolled": true
   },
   "outputs": [
    {
     "data": {
      "text/plain": [
       "churn                            1.000000\n",
       "international_plan               0.258241\n",
       "number_customer_service_calls    0.233066\n",
       "total_day_minutes                0.192479\n",
       "total_day_charge                 0.192470\n",
       "voice_mail_plan                  0.112877\n",
       "total_eve_minutes                0.100217\n",
       "total_eve_charge                 0.100210\n",
       "number_vmail_messages            0.095307\n",
       "total_intl_charge                0.059381\n",
       "total_intl_minutes               0.059353\n",
       "state_NJ                         0.054455\n",
       "total_intl_calls                 0.043472\n",
       "state_MS                         0.042097\n",
       "state_SC                         0.040437\n",
       "state_VA                         0.038611\n",
       "state_MD                         0.036880\n",
       "state_HI                         0.035441\n",
       "state_OK                         0.033766\n",
       "state_MT                         0.033766\n",
       "total_night_minutes              0.032041\n",
       "total_night_charge               0.032027\n",
       "state_MN                         0.031657\n",
       "state_RI                         0.030592\n",
       "state_CO                         0.030384\n",
       "state_ND                         0.030384\n",
       "state_WA                         0.027999\n",
       "state_NV                         0.027700\n",
       "state_IL                         0.024487\n",
       "area_code_area_code_510          0.023811\n",
       "Name: churn, dtype: float64"
      ]
     },
     "execution_count": 26,
     "metadata": {},
     "output_type": "execute_result"
    }
   ],
   "source": [
    "bazaCorr=train.corr()\n",
    "np.abs(bazaCorr['churn']).sort_values(ascending=False)[0:30]"
   ]
  },
  {
   "cell_type": "markdown",
   "metadata": {},
   "source": [
    "###### Żadna zmienna nie jest silnie skorelowana ze zmienną celu, więc żadnej nie będę usuwał."
   ]
  },
  {
   "cell_type": "markdown",
   "metadata": {},
   "source": [
    "###### 7.5 Badanie korelacji pomiędzy zmiennymi objaśniającymi"
   ]
  },
  {
   "cell_type": "code",
   "execution_count": 27,
   "metadata": {},
   "outputs": [
    {
     "data": {
      "text/plain": [
       "['number_vmail_messages',\n",
       " 'total_day_charge',\n",
       " 'total_eve_charge',\n",
       " 'total_night_charge',\n",
       " 'total_intl_minutes']"
      ]
     },
     "execution_count": 27,
     "metadata": {},
     "output_type": "execute_result"
    }
   ],
   "source": [
    "target = 'churn'\n",
    "skorelowane = []\n",
    "\n",
    "for i in train.columns:\n",
    "    for j in train.columns:\n",
    "        if i != j and np.abs(bazaCorr[i][j]) >= 0.7:\n",
    "            if i not in skorelowane and j not in skorelowane:\n",
    "                if abs(bazaCorr[i][target]) < abs(bazaCorr[target][j]):\n",
    "                    skorelowane.append(i)\n",
    "                else:\n",
    "                    skorelowane.append(j)\n",
    "skorelowane"
   ]
  },
  {
   "cell_type": "markdown",
   "metadata": {},
   "source": [
    "###### Sprawdziłem tutaj korelację między zmiennymi objaśniającymi - jeżeli występuję między nimi zależność r > 0.7, to sprawdzam, która ze zmiennych jest silniej skorelowana ze zmienną celu - zostawiam tą zmienną, która ma większy współczynnik korelacji liniowej pearsona ze zmienną celu."
   ]
  },
  {
   "cell_type": "code",
   "execution_count": 28,
   "metadata": {},
   "outputs": [],
   "source": [
    "train.drop(skorelowane,axis=1,inplace=True)\n",
    "test.drop(skorelowane,axis=1,inplace=True)\n",
    "#usuwam te zmienne"
   ]
  },
  {
   "cell_type": "markdown",
   "metadata": {},
   "source": [
    "###### 7.6 Identyfikacja zmiennych nie różnicujących zmiennej celu"
   ]
  },
  {
   "cell_type": "code",
   "execution_count": 29,
   "metadata": {},
   "outputs": [],
   "source": [
    "bin_col = list()\n",
    "for i in train.columns:\n",
    "    if (len(train[i].value_counts()) == 2) & (i != 'churn'):\n",
    "        bin_col.append(i)"
   ]
  },
  {
   "cell_type": "code",
   "execution_count": 30,
   "metadata": {},
   "outputs": [
    {
     "name": "stdout",
     "output_type": "stream",
     "text": [
      "--------------------------------------\n",
      "international_plan\n",
      "   international_plan     churn\n",
      "1                   1  0.418440\n",
      "0                   0  0.111771\n",
      " \n",
      "Różnica:  -274.3714804080959\n",
      "--------------------------------------\n",
      "voice_mail_plan\n",
      "   voice_mail_plan     churn\n",
      "0                0  0.164166\n",
      "1                1  0.074742\n",
      " \n",
      "Różnica:  54.4713996059057\n",
      "--------------------------------------\n",
      "state_AL\n",
      "   state_AL     churn\n",
      "0         0  0.141578\n",
      "1         1  0.111111\n",
      " \n",
      "Różnica:  21.519329548526635\n",
      "--------------------------------------\n",
      "state_AR\n",
      "   state_AR     churn\n",
      "1         1  0.183673\n",
      "0         0  0.140123\n",
      " \n",
      "Różnica:  -31.080139372822316\n",
      "--------------------------------------\n",
      "state_AZ\n",
      "   state_AZ     churn\n",
      "0         0  0.141538\n",
      "1         1  0.100000\n",
      " \n",
      "Różnica:  29.347826086956513\n",
      "--------------------------------------\n",
      "state_CO\n",
      "   state_CO     churn\n",
      "0         0  0.142222\n",
      "1         1  0.060000\n",
      " \n",
      "Różnica:  57.81250000000001\n",
      "--------------------------------------\n",
      "state_CT\n",
      "   state_CT     churn\n",
      "0         0  0.140990\n",
      "1         1  0.134328\n",
      " \n",
      "Różnica:  4.725154714233712\n",
      "--------------------------------------\n",
      "state_DC\n",
      "   state_DC     churn\n",
      "0         0  0.141289\n",
      "1         1  0.118644\n",
      " \n",
      "Różnica:  16.027645219680767\n",
      "--------------------------------------\n",
      "state_DE\n",
      "   state_DE     churn\n",
      "1         1  0.185185\n",
      "0         0  0.140021\n",
      " \n",
      "Różnica:  -32.25572761025084\n",
      "--------------------------------------\n",
      "state_FL\n",
      "   state_FL    churn\n",
      "0         0  0.14188\n",
      "1         1  0.08000\n",
      " \n",
      "Różnica:  43.614457831325296\n",
      "--------------------------------------\n",
      "state_HI\n",
      "   state_HI     churn\n",
      "0         0  0.142563\n",
      "1         1  0.052632\n",
      " \n",
      "Różnica:  63.081983805668024\n",
      "--------------------------------------\n",
      "state_IA\n",
      "   state_IA     churn\n",
      "0         0  0.141345\n",
      "1         1  0.108696\n",
      " \n",
      "Różnica:  23.09913883637892\n",
      "--------------------------------------\n",
      "state_ID\n",
      "   state_ID     churn\n",
      "0         0  0.141626\n",
      "1         1  0.109589\n",
      " \n",
      "Różnica:  22.62107122621072\n",
      "--------------------------------------\n",
      "state_IL\n",
      "   state_IL     churn\n",
      "0         0  0.142073\n",
      "1         1  0.081967\n",
      " \n",
      "Różnica:  42.30616931971173\n",
      "--------------------------------------\n",
      "state_IN\n",
      "   state_IN     churn\n",
      "0         0  0.141635\n",
      "1         1  0.096154\n",
      " \n",
      "Różnica:  32.111668524711995\n",
      "--------------------------------------\n",
      "state_KS\n",
      "   state_KS     churn\n",
      "1         1  0.187500\n",
      "0         0  0.139814\n",
      " \n",
      "Różnica:  -34.106265356265354\n",
      "--------------------------------------\n",
      "state_KY\n",
      "   state_KY     churn\n",
      "0         0  0.141043\n",
      "1         1  0.131148\n",
      " \n",
      "Różnica:  7.016074348849257\n",
      "--------------------------------------\n",
      "state_LA\n",
      "   state_LA     churn\n",
      "1         1  0.142857\n",
      "0         0  0.140807\n",
      " \n",
      "Różnica:  -1.456310679611647\n",
      "--------------------------------------\n",
      "state_MA\n",
      "   state_MA     churn\n",
      "0         0  0.141043\n",
      "1         1  0.131148\n",
      " \n",
      "Różnica:  7.016074348849257\n",
      "--------------------------------------\n",
      "state_MD\n",
      "   state_MD     churn\n",
      "1         1  0.229508\n",
      "0         0  0.138984\n",
      " \n",
      "Różnica:  -65.13256425824733\n",
      "--------------------------------------\n",
      "state_ME\n",
      "   state_ME     churn\n",
      "1         1  0.188406\n",
      "0         0  0.139711\n",
      " \n",
      "Różnica:  -34.854001570643256\n",
      "--------------------------------------\n",
      "state_MI\n",
      "   state_MI     churn\n",
      "1         1  0.196721\n",
      "0         0  0.139671\n",
      " \n",
      "Różnica:  -40.846658879445755\n",
      "--------------------------------------\n",
      "state_MN\n",
      "   state_MN     churn\n",
      "1         1  0.211268\n",
      "0         0  0.139118\n",
      " \n",
      "Różnica:  -51.861665039743414\n",
      "--------------------------------------\n",
      "state_MO\n",
      "   state_MO     churn\n",
      "1         1  0.156863\n",
      "0         0  0.140561\n",
      " \n",
      "Różnica:  -11.59772911597729\n",
      "--------------------------------------\n",
      "state_MS\n",
      "   state_MS     churn\n",
      "1         1  0.245614\n",
      "0         0  0.138794\n",
      " \n",
      "Różnica:  -76.96339614468269\n",
      "--------------------------------------\n",
      "state_MT\n",
      "   state_MT     churn\n",
      "1         1  0.224138\n",
      "0         0  0.139184\n",
      " \n",
      "Różnica:  -61.037030745710894\n",
      "--------------------------------------\n",
      "state_NC\n",
      "   state_NC     churn\n",
      "0         0  0.141487\n",
      "1         1  0.107143\n",
      " \n",
      "Różnica:  24.27360774818403\n",
      "--------------------------------------\n",
      "state_ND\n",
      "   state_ND     churn\n",
      "0         0  0.142222\n",
      "1         1  0.060000\n",
      " \n",
      "Różnica:  57.81250000000001\n",
      "--------------------------------------\n",
      "state_NE\n",
      "   state_NE     churn\n",
      "0         0  0.141684\n",
      "1         1  0.094340\n",
      " \n",
      "Różnica:  33.41536778780421\n",
      "--------------------------------------\n",
      "state_NH\n",
      "   state_NH     churn\n",
      "0         0  0.141635\n",
      "1         1  0.096154\n",
      " \n",
      "Różnica:  32.111668524711995\n",
      "--------------------------------------\n",
      "state_NJ\n",
      "   state_NJ     churn\n",
      "1         1  0.260274\n",
      "0         0  0.137836\n",
      " \n",
      "Różnica:  -88.82876712328763\n",
      "--------------------------------------\n",
      "state_NM\n",
      "   state_NM     churn\n",
      "0         0  0.141338\n",
      "1         1  0.116667\n",
      " \n",
      "Różnica:  17.455501618122973\n",
      "--------------------------------------\n",
      "state_NV\n",
      "   state_NV     churn\n",
      "1         1  0.206349\n",
      "0         0  0.139423\n",
      " \n",
      "Różnica:  -48.00218938149971\n",
      "--------------------------------------\n",
      "state_NY\n",
      "   state_NY     churn\n",
      "0         0  0.141480\n",
      "1         1  0.114286\n",
      " \n",
      "Różnica:  19.221411192214124\n",
      "--------------------------------------\n",
      "state_OH\n",
      "   state_OH     churn\n",
      "1         1  0.149254\n",
      "0         0  0.140646\n",
      " \n",
      "Różnica:  -6.119767908623124\n",
      "--------------------------------------\n",
      "state_OK\n",
      "   state_OK     churn\n",
      "1         1  0.224138\n",
      "0         0  0.139184\n",
      " \n",
      "Różnica:  -61.037030745710894\n",
      "--------------------------------------\n",
      "state_OR\n",
      "   state_OR     churn\n",
      "1         1  0.174603\n",
      "0         0  0.140110\n",
      " \n",
      "Różnica:  -24.618736383442258\n",
      "--------------------------------------\n",
      "state_PA\n",
      "   state_PA     churn\n",
      "0         0  0.141638\n",
      "1         1  0.088889\n",
      " \n",
      "Różnica:  37.24230254350736\n",
      "--------------------------------------\n",
      "state_RI\n",
      "   state_RI     churn\n",
      "0         0  0.142367\n",
      "1         1  0.066667\n",
      " \n",
      "Różnica:  53.172690763052216\n",
      "--------------------------------------\n",
      "state_SC\n",
      "   state_SC     churn\n",
      "1         1  0.245283\n",
      "0         0  0.138946\n",
      " \n",
      "Różnica:  -76.53127614090529\n",
      "--------------------------------------\n",
      "state_SD\n",
      "   state_SD     churn\n",
      "0         0  0.141587\n",
      "1         1  0.098039\n",
      " \n",
      "Różnica:  30.756843800322063\n",
      "--------------------------------------\n",
      "state_TN\n",
      "   state_TN     churn\n",
      "1         1  0.152542\n",
      "0         0  0.140604\n",
      " \n",
      "Różnica:  -8.491112029764368\n",
      "--------------------------------------\n",
      "state_TX\n",
      "   state_TX     churn\n",
      "1         1  0.161290\n",
      "0         0  0.140405\n",
      " \n",
      "Różnica:  -14.874990141178333\n",
      "--------------------------------------\n",
      "state_UT\n",
      "   state_UT     churn\n",
      "1         1  0.171875\n",
      "0         0  0.140158\n",
      " \n",
      "Różnica:  -22.629442401960787\n",
      "--------------------------------------\n",
      "state_VA\n",
      "   state_VA     churn\n",
      "0         0  0.142956\n",
      "1         1  0.055556\n",
      " \n",
      "Różnica:  61.13788487282463\n",
      "--------------------------------------\n",
      "state_VT\n",
      "   state_VT     churn\n",
      "0         0  0.141386\n",
      "1         1  0.114754\n",
      " \n",
      "Różnica:  18.836543052681836\n",
      "--------------------------------------\n",
      "state_WA\n",
      "   state_WA     churn\n",
      "1         1  0.210526\n",
      "0         0  0.139479\n",
      " \n",
      "Różnica:  -50.93754041122461\n",
      "--------------------------------------\n",
      "state_WI\n",
      "   state_WI     churn\n",
      "0         0  0.141876\n",
      "1         1  0.093750\n",
      " \n",
      "Różnica:  33.92100484261502\n",
      "--------------------------------------\n",
      "state_WY\n",
      "   state_WY     churn\n",
      "0         0  0.141140\n",
      "1         1  0.126984\n",
      " \n",
      "Różnica:  10.029737766964049\n",
      "--------------------------------------\n",
      "area_code_area_code_408\n",
      "   area_code_area_code_408     churn\n",
      "1                        1  0.147563\n",
      "0                        0  0.138538\n",
      " \n",
      "Różnica:  -6.514228819851254\n",
      "--------------------------------------\n",
      "area_code_area_code_510\n",
      "   area_code_area_code_510     churn\n",
      "1                        1  0.155313\n",
      "0                        0  0.136100\n",
      " \n",
      "Różnica:  -14.117121543753058\n"
     ]
    }
   ],
   "source": [
    "notdiff =[]\n",
    "for i in bin_col:\n",
    "    table=train[[i, target]].groupby([i], as_index=False).mean().sort_values(by=target, ascending=False)\n",
    "    print('--------------------------------------')\n",
    "    print(i)\n",
    "    print(table)\n",
    "    print(' ')\n",
    "    diff = 100* (table.loc[0,target] - table.loc[1, target]) / table.loc[0,target]\n",
    "    print('Różnica: ', diff)\n",
    "    if abs(diff) <= 10:\n",
    "        notdiff.append(table.columns[0])"
   ]
  },
  {
   "cell_type": "markdown",
   "metadata": {},
   "source": [
    "###### Jeżeli różnica między udziałem zdarzeń w obu kategoriach jest mniejsza niż 10% to je usuwam - zakładam, że zmienne o mniejszej różnicy udziałów nie są istotnie różnicujące"
   ]
  },
  {
   "cell_type": "code",
   "execution_count": 31,
   "metadata": {
    "scrolled": true
   },
   "outputs": [
    {
     "data": {
      "text/plain": [
       "['state_CT',\n",
       " 'state_KY',\n",
       " 'state_LA',\n",
       " 'state_MA',\n",
       " 'state_OH',\n",
       " 'state_TN',\n",
       " 'area_code_area_code_408']"
      ]
     },
     "execution_count": 31,
     "metadata": {},
     "output_type": "execute_result"
    }
   ],
   "source": [
    "notdiff"
   ]
  },
  {
   "cell_type": "code",
   "execution_count": 32,
   "metadata": {},
   "outputs": [],
   "source": [
    "train.drop(notdiff,axis=1,inplace=True)\n",
    "test.drop(notdiff,axis=1,inplace=True)"
   ]
  },
  {
   "cell_type": "code",
   "execution_count": 33,
   "metadata": {},
   "outputs": [
    {
     "data": {
      "text/plain": [
       "55"
      ]
     },
     "execution_count": 33,
     "metadata": {},
     "output_type": "execute_result"
    }
   ],
   "source": [
    "len(train.columns)"
   ]
  },
  {
   "cell_type": "markdown",
   "metadata": {},
   "source": [
    "# 8. Wybór zmiennych do modelu"
   ]
  },
  {
   "cell_type": "markdown",
   "metadata": {},
   "source": [
    "###### 8.1 Podział zbioru X_train, X_test, y_train, y_test"
   ]
  },
  {
   "cell_type": "code",
   "execution_count": 34,
   "metadata": {},
   "outputs": [],
   "source": [
    "X_train = train.drop('churn',axis=1)\n",
    "X_test = test.drop('churn',axis=1)\n",
    "y_train = train['churn']\n",
    "y_test = test['churn']"
   ]
  },
  {
   "cell_type": "code",
   "execution_count": 35,
   "metadata": {
    "scrolled": true
   },
   "outputs": [
    {
     "name": "stdout",
     "output_type": "stream",
     "text": [
      "[0.04943605 0.06825888 0.02129059 0.16439439 0.04308124 0.07536313\n",
      " 0.05280143 0.04880302 0.04649584 0.06293887 0.0575195  0.11346292\n",
      " 0.00520807 0.00402741 0.0049859  0.00321655 0.00349804 0.0046531\n",
      " 0.00326581 0.00239912 0.00324192 0.00473494 0.00295141 0.00316468\n",
      " 0.00517191 0.00625838 0.00715019 0.00550272 0.0045174  0.00277285\n",
      " 0.0052909  0.00449538 0.00471961 0.00226427 0.00433142 0.00256024\n",
      " 0.00661262 0.00242575 0.00689717 0.0038412  0.00386422 0.00606341\n",
      " 0.00180404 0.00333061 0.00480161 0.00384372 0.00551387 0.0050314\n",
      " 0.00318886 0.00396695 0.00497214 0.00312642 0.00415838 0.02232955]\n"
     ]
    }
   ],
   "source": [
    "model = ExtraTreesClassifier(n_estimators=12)\n",
    "model.fit(X_train, y_train)\n",
    "print(model.feature_importances_)"
   ]
  },
  {
   "cell_type": "code",
   "execution_count": 36,
   "metadata": {
    "scrolled": true
   },
   "outputs": [
    {
     "data": {
      "text/html": [
       "<div>\n",
       "<style scoped>\n",
       "    .dataframe tbody tr th:only-of-type {\n",
       "        vertical-align: middle;\n",
       "    }\n",
       "\n",
       "    .dataframe tbody tr th {\n",
       "        vertical-align: top;\n",
       "    }\n",
       "\n",
       "    .dataframe thead th {\n",
       "        text-align: right;\n",
       "    }\n",
       "</style>\n",
       "<table border=\"1\" class=\"dataframe\">\n",
       "  <thead>\n",
       "    <tr style=\"text-align: right;\">\n",
       "      <th></th>\n",
       "      <th>values</th>\n",
       "    </tr>\n",
       "  </thead>\n",
       "  <tbody>\n",
       "    <tr>\n",
       "      <th>total_day_minutes</th>\n",
       "      <td>0.164394</td>\n",
       "    </tr>\n",
       "    <tr>\n",
       "      <th>number_customer_service_calls</th>\n",
       "      <td>0.113463</td>\n",
       "    </tr>\n",
       "    <tr>\n",
       "      <th>total_eve_minutes</th>\n",
       "      <td>0.075363</td>\n",
       "    </tr>\n",
       "    <tr>\n",
       "      <th>international_plan</th>\n",
       "      <td>0.068259</td>\n",
       "    </tr>\n",
       "    <tr>\n",
       "      <th>total_intl_calls</th>\n",
       "      <td>0.062939</td>\n",
       "    </tr>\n",
       "    <tr>\n",
       "      <th>total_intl_charge</th>\n",
       "      <td>0.057519</td>\n",
       "    </tr>\n",
       "    <tr>\n",
       "      <th>total_eve_calls</th>\n",
       "      <td>0.052801</td>\n",
       "    </tr>\n",
       "    <tr>\n",
       "      <th>account_length</th>\n",
       "      <td>0.049436</td>\n",
       "    </tr>\n",
       "    <tr>\n",
       "      <th>total_night_minutes</th>\n",
       "      <td>0.048803</td>\n",
       "    </tr>\n",
       "    <tr>\n",
       "      <th>total_night_calls</th>\n",
       "      <td>0.046496</td>\n",
       "    </tr>\n",
       "    <tr>\n",
       "      <th>total_day_calls</th>\n",
       "      <td>0.043081</td>\n",
       "    </tr>\n",
       "    <tr>\n",
       "      <th>area_code_area_code_510</th>\n",
       "      <td>0.022330</td>\n",
       "    </tr>\n",
       "    <tr>\n",
       "      <th>voice_mail_plan</th>\n",
       "      <td>0.021291</td>\n",
       "    </tr>\n",
       "    <tr>\n",
       "      <th>state_ME</th>\n",
       "      <td>0.007150</td>\n",
       "    </tr>\n",
       "    <tr>\n",
       "      <th>state_NV</th>\n",
       "      <td>0.006897</td>\n",
       "    </tr>\n",
       "    <tr>\n",
       "      <th>state_NJ</th>\n",
       "      <td>0.006613</td>\n",
       "    </tr>\n",
       "    <tr>\n",
       "      <th>state_MD</th>\n",
       "      <td>0.006258</td>\n",
       "    </tr>\n",
       "    <tr>\n",
       "      <th>state_OR</th>\n",
       "      <td>0.006063</td>\n",
       "    </tr>\n",
       "    <tr>\n",
       "      <th>state_TX</th>\n",
       "      <td>0.005514</td>\n",
       "    </tr>\n",
       "    <tr>\n",
       "      <th>state_MI</th>\n",
       "      <td>0.005503</td>\n",
       "    </tr>\n",
       "  </tbody>\n",
       "</table>\n",
       "</div>"
      ],
      "text/plain": [
       "                                 values\n",
       "total_day_minutes              0.164394\n",
       "number_customer_service_calls  0.113463\n",
       "total_eve_minutes              0.075363\n",
       "international_plan             0.068259\n",
       "total_intl_calls               0.062939\n",
       "total_intl_charge              0.057519\n",
       "total_eve_calls                0.052801\n",
       "account_length                 0.049436\n",
       "total_night_minutes            0.048803\n",
       "total_night_calls              0.046496\n",
       "total_day_calls                0.043081\n",
       "area_code_area_code_510        0.022330\n",
       "voice_mail_plan                0.021291\n",
       "state_ME                       0.007150\n",
       "state_NV                       0.006897\n",
       "state_NJ                       0.006613\n",
       "state_MD                       0.006258\n",
       "state_OR                       0.006063\n",
       "state_TX                       0.005514\n",
       "state_MI                       0.005503"
      ]
     },
     "execution_count": 36,
     "metadata": {},
     "output_type": "execute_result"
    }
   ],
   "source": [
    "features_tree_ = pd.DataFrame(model.feature_importances_, index=X_train.columns,columns=['values']).sort_values('values',ascending=False)[0:20]\n",
    "features_tree_"
   ]
  },
  {
   "cell_type": "code",
   "execution_count": 37,
   "metadata": {
    "scrolled": true
   },
   "outputs": [
    {
     "data": {
      "text/plain": [
       "(array([ 0,  1,  2,  3,  4,  5,  6,  7,  8,  9, 10, 11, 12, 13, 14, 15, 16,\n",
       "        17, 18, 19]),\n",
       " [Text(0, 0, 'total_day_minutes'),\n",
       "  Text(1, 0, 'number_customer_service_calls'),\n",
       "  Text(2, 0, 'total_eve_minutes'),\n",
       "  Text(3, 0, 'international_plan'),\n",
       "  Text(4, 0, 'total_intl_calls'),\n",
       "  Text(5, 0, 'total_intl_charge'),\n",
       "  Text(6, 0, 'total_eve_calls'),\n",
       "  Text(7, 0, 'account_length'),\n",
       "  Text(8, 0, 'total_night_minutes'),\n",
       "  Text(9, 0, 'total_night_calls'),\n",
       "  Text(10, 0, 'total_day_calls'),\n",
       "  Text(11, 0, 'area_code_area_code_510'),\n",
       "  Text(12, 0, 'voice_mail_plan'),\n",
       "  Text(13, 0, 'state_ME'),\n",
       "  Text(14, 0, 'state_NV'),\n",
       "  Text(15, 0, 'state_NJ'),\n",
       "  Text(16, 0, 'state_MD'),\n",
       "  Text(17, 0, 'state_OR'),\n",
       "  Text(18, 0, 'state_TX'),\n",
       "  Text(19, 0, 'state_MI')])"
      ]
     },
     "execution_count": 37,
     "metadata": {},
     "output_type": "execute_result"
    },
    {
     "data": {
      "image/png": "[encoded data removed]",
      "text/plain": [
       "<Figure size 864x576 with 1 Axes>"
      ]
     },
     "metadata": {
      "needs_background": "light"
     },
     "output_type": "display_data"
    }
   ],
   "source": [
    "features_tree_.plot(kind='bar',color='darkviolet',figsize=(12,8))\n",
    "plt.title('Najważniejsze zmienne')\n",
    "plt.xticks(rotation=70)"
   ]
  },
  {
   "cell_type": "code",
   "execution_count": 38,
   "metadata": {},
   "outputs": [],
   "source": [
    "important_features = features_tree_[0:12].index"
   ]
  },
  {
   "cell_type": "markdown",
   "metadata": {},
   "source": [
    "###### Powyżej zostały wypisane najważniejsze zmienne według ExtraTreesClassifier"
   ]
  },
  {
   "cell_type": "markdown",
   "metadata": {},
   "source": [
    "# 9. Budowa modelu"
   ]
  },
  {
   "cell_type": "markdown",
   "metadata": {},
   "source": [
    "###### 9.1 Undersampling"
   ]
  },
  {
   "cell_type": "code",
   "execution_count": 39,
   "metadata": {},
   "outputs": [],
   "source": [
    "from imblearn.under_sampling import ClusterCentroids\n",
    "cc = ClusterCentroids(random_state=0)\n",
    "X_resampled, y_resampled = cc.fit_resample(X_train, y_train)\n",
    "X_resampled_pd = pd.DataFrame(X_resampled, columns=X_train.columns)\n",
    "y_resampled_pd = pd.DataFrame(y_resampled)"
   ]
  },
  {
   "cell_type": "code",
   "execution_count": 40,
   "metadata": {},
   "outputs": [
    {
     "data": {
      "text/plain": [
       "0    2556\n",
       "1     419\n",
       "Name: churn, dtype: int64"
      ]
     },
     "execution_count": 40,
     "metadata": {},
     "output_type": "execute_result"
    }
   ],
   "source": [
    "y_train.value_counts()"
   ]
  },
  {
   "cell_type": "code",
   "execution_count": 41,
   "metadata": {},
   "outputs": [
    {
     "data": {
      "text/plain": [
       "1    419\n",
       "0    419\n",
       "Name: churn, dtype: int64"
      ]
     },
     "execution_count": 41,
     "metadata": {},
     "output_type": "execute_result"
    }
   ],
   "source": [
    "y_resampled.value_counts()"
   ]
  },
  {
   "cell_type": "code",
   "execution_count": 42,
   "metadata": {},
   "outputs": [],
   "source": [
    "def evaluateModel(alg, X_train, Y_train, X_test, Y_test, treshold):\n",
    "\n",
    "    #Fit the algorithm on the data\n",
    "    alg.fit(X_train, Y_train)\n",
    "        \n",
    "    #Predict test set:\n",
    "    X_test_predictions = alg.predict(X_test)\n",
    "    X_test_predprob0 = alg.predict_proba(X_test)\n",
    "    X_test_predprob = alg.predict_proba(X_test)[:,1]\n",
    "    \n",
    "    for i in range(len(X_test_predprob)):\n",
    "        if X_test_predprob[i] >= treshold:\n",
    "            X_test_predprob[i] = 1\n",
    "        else:\n",
    "            X_test_predprob[i] = 0\n",
    "    \n",
    "    print(\"AUC Score: \" + str(roc_auc_score(Y_test, X_test_predprob0[:,1])))\n",
    "    print(\"Accuracy Test: \" + str(accuracy_score(Y_test, X_test_predictions)))\n",
    "    print(\"Precision: \" + str(precision_score(Y_test, X_test_predprob)))\n",
    "    print(\"Recall: \" + str(recall_score(Y_test, X_test_predprob)))\n",
    "\n",
    "    confMatrix=confusion_matrix(Y_test, X_test_predprob)\n",
    "    \n",
    "    confMatrix=pd.DataFrame(confMatrix)\n",
    "    \n",
    "    confMatrix.columns=[['Predicted 0','Predicted 1']]\n",
    "    confMatrix.index=[['True 0','True 1']]\n",
    "    print('')\n",
    "    print('Confusion Matrix:')\n",
    "    print('')\n",
    "\n",
    "    print(confMatrix)\n",
    "    \n",
    "    print('Accuracy Matrix:')\n",
    "    Accuracy_Matrix=100*confMatrix.div(confMatrix.sum(axis=1),axis=0)\n",
    "    print(Accuracy_Matrix)\n",
    "    print('')\n",
    "    return  X_test_predprob0"
   ]
  },
  {
   "cell_type": "markdown",
   "metadata": {},
   "source": [
    "###### Powyżej został stworzony drugi zbiór danych, który został poddany operacji undersamplingu."
   ]
  },
  {
   "cell_type": "markdown",
   "metadata": {},
   "source": [
    "### 9.2 Model regresji logistycznej"
   ]
  },
  {
   "cell_type": "markdown",
   "metadata": {},
   "source": [
    "###### 9.21 Ewaluacja modelu przed undersamplingiem"
   ]
  },
  {
   "cell_type": "code",
   "execution_count": 43,
   "metadata": {},
   "outputs": [
    {
     "data": {
      "text/html": [
       "<div>\n",
       "<style scoped>\n",
       "    .dataframe tbody tr th:only-of-type {\n",
       "        vertical-align: middle;\n",
       "    }\n",
       "\n",
       "    .dataframe tbody tr th {\n",
       "        vertical-align: top;\n",
       "    }\n",
       "\n",
       "    .dataframe thead th {\n",
       "        text-align: right;\n",
       "    }\n",
       "</style>\n",
       "<table border=\"1\" class=\"dataframe\">\n",
       "  <thead>\n",
       "    <tr style=\"text-align: right;\">\n",
       "      <th></th>\n",
       "      <th>total_day_minutes</th>\n",
       "      <th>number_customer_service_calls</th>\n",
       "      <th>total_eve_minutes</th>\n",
       "      <th>international_plan</th>\n",
       "      <th>total_intl_calls</th>\n",
       "      <th>total_intl_charge</th>\n",
       "      <th>total_eve_calls</th>\n",
       "      <th>account_length</th>\n",
       "      <th>total_night_minutes</th>\n",
       "      <th>total_night_calls</th>\n",
       "      <th>total_day_calls</th>\n",
       "      <th>area_code_area_code_510</th>\n",
       "    </tr>\n",
       "  </thead>\n",
       "  <tbody>\n",
       "    <tr>\n",
       "      <th>3344</th>\n",
       "      <td>267.9</td>\n",
       "      <td>3</td>\n",
       "      <td>145.4</td>\n",
       "      <td>0</td>\n",
       "      <td>1</td>\n",
       "      <td>4.02</td>\n",
       "      <td>143</td>\n",
       "      <td>68</td>\n",
       "      <td>273.3</td>\n",
       "      <td>119</td>\n",
       "      <td>80</td>\n",
       "      <td>0</td>\n",
       "    </tr>\n",
       "    <tr>\n",
       "      <th>1801</th>\n",
       "      <td>154.5</td>\n",
       "      <td>1</td>\n",
       "      <td>216.2</td>\n",
       "      <td>0</td>\n",
       "      <td>3</td>\n",
       "      <td>3.70</td>\n",
       "      <td>91</td>\n",
       "      <td>81</td>\n",
       "      <td>229.8</td>\n",
       "      <td>82</td>\n",
       "      <td>84</td>\n",
       "      <td>1</td>\n",
       "    </tr>\n",
       "    <tr>\n",
       "      <th>1782</th>\n",
       "      <td>60.6</td>\n",
       "      <td>0</td>\n",
       "      <td>165.9</td>\n",
       "      <td>0</td>\n",
       "      <td>7</td>\n",
       "      <td>3.59</td>\n",
       "      <td>96</td>\n",
       "      <td>112</td>\n",
       "      <td>132.8</td>\n",
       "      <td>99</td>\n",
       "      <td>113</td>\n",
       "      <td>0</td>\n",
       "    </tr>\n",
       "    <tr>\n",
       "      <th>1714</th>\n",
       "      <td>154.5</td>\n",
       "      <td>2</td>\n",
       "      <td>193.6</td>\n",
       "      <td>0</td>\n",
       "      <td>3</td>\n",
       "      <td>3.62</td>\n",
       "      <td>87</td>\n",
       "      <td>119</td>\n",
       "      <td>180.9</td>\n",
       "      <td>145</td>\n",
       "      <td>129</td>\n",
       "      <td>1</td>\n",
       "    </tr>\n",
       "    <tr>\n",
       "      <th>911</th>\n",
       "      <td>101.9</td>\n",
       "      <td>0</td>\n",
       "      <td>223.1</td>\n",
       "      <td>0</td>\n",
       "      <td>2</td>\n",
       "      <td>3.48</td>\n",
       "      <td>97</td>\n",
       "      <td>105</td>\n",
       "      <td>241.6</td>\n",
       "      <td>77</td>\n",
       "      <td>79</td>\n",
       "      <td>1</td>\n",
       "    </tr>\n",
       "    <tr>\n",
       "      <th>...</th>\n",
       "      <td>...</td>\n",
       "      <td>...</td>\n",
       "      <td>...</td>\n",
       "      <td>...</td>\n",
       "      <td>...</td>\n",
       "      <td>...</td>\n",
       "      <td>...</td>\n",
       "      <td>...</td>\n",
       "      <td>...</td>\n",
       "      <td>...</td>\n",
       "      <td>...</td>\n",
       "      <td>...</td>\n",
       "    </tr>\n",
       "    <tr>\n",
       "      <th>94</th>\n",
       "      <td>126.7</td>\n",
       "      <td>1</td>\n",
       "      <td>206.0</td>\n",
       "      <td>0</td>\n",
       "      <td>7</td>\n",
       "      <td>3.59</td>\n",
       "      <td>90</td>\n",
       "      <td>125</td>\n",
       "      <td>247.8</td>\n",
       "      <td>114</td>\n",
       "      <td>108</td>\n",
       "      <td>0</td>\n",
       "    </tr>\n",
       "    <tr>\n",
       "      <th>950</th>\n",
       "      <td>78.5</td>\n",
       "      <td>1</td>\n",
       "      <td>210.5</td>\n",
       "      <td>0</td>\n",
       "      <td>4</td>\n",
       "      <td>3.19</td>\n",
       "      <td>101</td>\n",
       "      <td>83</td>\n",
       "      <td>179.7</td>\n",
       "      <td>102</td>\n",
       "      <td>109</td>\n",
       "      <td>0</td>\n",
       "    </tr>\n",
       "    <tr>\n",
       "      <th>1451</th>\n",
       "      <td>115.9</td>\n",
       "      <td>1</td>\n",
       "      <td>111.3</td>\n",
       "      <td>0</td>\n",
       "      <td>4</td>\n",
       "      <td>1.92</td>\n",
       "      <td>56</td>\n",
       "      <td>100</td>\n",
       "      <td>170.2</td>\n",
       "      <td>77</td>\n",
       "      <td>87</td>\n",
       "      <td>1</td>\n",
       "    </tr>\n",
       "    <tr>\n",
       "      <th>2607</th>\n",
       "      <td>135.4</td>\n",
       "      <td>0</td>\n",
       "      <td>237.1</td>\n",
       "      <td>0</td>\n",
       "      <td>4</td>\n",
       "      <td>4.73</td>\n",
       "      <td>122</td>\n",
       "      <td>82</td>\n",
       "      <td>118.3</td>\n",
       "      <td>91</td>\n",
       "      <td>102</td>\n",
       "      <td>0</td>\n",
       "    </tr>\n",
       "    <tr>\n",
       "      <th>3175</th>\n",
       "      <td>72.2</td>\n",
       "      <td>2</td>\n",
       "      <td>173.4</td>\n",
       "      <td>0</td>\n",
       "      <td>5</td>\n",
       "      <td>2.97</td>\n",
       "      <td>81</td>\n",
       "      <td>174</td>\n",
       "      <td>130.1</td>\n",
       "      <td>121</td>\n",
       "      <td>80</td>\n",
       "      <td>0</td>\n",
       "    </tr>\n",
       "  </tbody>\n",
       "</table>\n",
       "<p>1275 rows × 12 columns</p>\n",
       "</div>"
      ],
      "text/plain": [
       "      total_day_minutes  number_customer_service_calls  total_eve_minutes  \\\n",
       "3344              267.9                              3              145.4   \n",
       "1801              154.5                              1              216.2   \n",
       "1782               60.6                              0              165.9   \n",
       "1714              154.5                              2              193.6   \n",
       "911               101.9                              0              223.1   \n",
       "...                 ...                            ...                ...   \n",
       "94                126.7                              1              206.0   \n",
       "950                78.5                              1              210.5   \n",
       "1451              115.9                              1              111.3   \n",
       "2607              135.4                              0              237.1   \n",
       "3175               72.2                              2              173.4   \n",
       "\n",
       "      international_plan  total_intl_calls  total_intl_charge  \\\n",
       "3344                   0                 1               4.02   \n",
       "1801                   0                 3               3.70   \n",
       "1782                   0                 7               3.59   \n",
       "1714                   0                 3               3.62   \n",
       "911                    0                 2               3.48   \n",
       "...                  ...               ...                ...   \n",
       "94                     0                 7               3.59   \n",
       "950                    0                 4               3.19   \n",
       "1451                   0                 4               1.92   \n",
       "2607                   0                 4               4.73   \n",
       "3175                   0                 5               2.97   \n",
       "\n",
       "      total_eve_calls  account_length  total_night_minutes  total_night_calls  \\\n",
       "3344              143              68                273.3                119   \n",
       "1801               91              81                229.8                 82   \n",
       "1782               96             112                132.8                 99   \n",
       "1714               87             119                180.9                145   \n",
       "911                97             105                241.6                 77   \n",
       "...               ...             ...                  ...                ...   \n",
       "94                 90             125                247.8                114   \n",
       "950               101              83                179.7                102   \n",
       "1451               56             100                170.2                 77   \n",
       "2607              122              82                118.3                 91   \n",
       "3175               81             174                130.1                121   \n",
       "\n",
       "      total_day_calls  area_code_area_code_510  \n",
       "3344               80                        0  \n",
       "1801               84                        1  \n",
       "1782              113                        0  \n",
       "1714              129                        1  \n",
       "911                79                        1  \n",
       "...               ...                      ...  \n",
       "94                108                        0  \n",
       "950               109                        0  \n",
       "1451               87                        1  \n",
       "2607              102                        0  \n",
       "3175               80                        0  \n",
       "\n",
       "[1275 rows x 12 columns]"
      ]
     },
     "execution_count": 43,
     "metadata": {},
     "output_type": "execute_result"
    }
   ],
   "source": [
    "X_test[important_features]"
   ]
  },
  {
   "cell_type": "code",
   "execution_count": 44,
   "metadata": {
    "scrolled": true
   },
   "outputs": [
    {
     "name": "stdout",
     "output_type": "stream",
     "text": [
      "TRAIN set\n"
     ]
    },
    {
     "name": "stderr",
     "output_type": "stream",
     "text": [
      "D:\\AnacondaReal\\lib\\site-packages\\sklearn\\linear_model\\_logistic.py:764: ConvergenceWarning: lbfgs failed to converge (status=1):\n",
      "STOP: TOTAL NO. of ITERATIONS REACHED LIMIT.\n",
      "\n",
      "Increase the number of iterations (max_iter) or scale the data as shown in:\n",
      "    https://scikit-learn.org/stable/modules/preprocessing.html\n",
      "Please also refer to the documentation for alternative solver options:\n",
      "    https://scikit-learn.org/stable/modules/linear_model.html#logistic-regression\n",
      "  extra_warning_msg=_LOGISTIC_SOLVER_CONVERGENCE_MSG)\n"
     ]
    },
    {
     "name": "stdout",
     "output_type": "stream",
     "text": [
      "AUC Score: 0.7791811862957111\n",
      "Accuracy Test: 0.8584873949579832\n",
      "Precision: 0.4925373134328358\n",
      "Recall: 0.1575178997613365\n",
      "\n",
      "Confusion Matrix:\n",
      "\n",
      "       Predicted 0 Predicted 1\n",
      "True 0        2488          68\n",
      "True 1         353          66\n",
      "Accuracy Matrix:\n",
      "       Predicted 0 Predicted 1\n",
      "True 0   97.339593    2.660407\n",
      "True 1   84.248210   15.751790\n",
      "\n",
      "\n",
      "TEST set\n",
      "AUC Score: 0.7891520205521346\n",
      "Accuracy Test: 0.8619607843137255\n",
      "Precision: 0.5263157894736842\n",
      "Recall: 0.16759776536312848\n",
      "\n",
      "Confusion Matrix:\n",
      "\n",
      "       Predicted 0 Predicted 1\n",
      "True 0        1069          27\n",
      "True 1         149          30\n",
      "Accuracy Matrix:\n",
      "       Predicted 0 Predicted 1\n",
      "True 0   97.536496    2.463504\n",
      "True 1   83.240223   16.759777\n",
      "\n"
     ]
    },
    {
     "name": "stderr",
     "output_type": "stream",
     "text": [
      "D:\\AnacondaReal\\lib\\site-packages\\sklearn\\linear_model\\_logistic.py:764: ConvergenceWarning: lbfgs failed to converge (status=1):\n",
      "STOP: TOTAL NO. of ITERATIONS REACHED LIMIT.\n",
      "\n",
      "Increase the number of iterations (max_iter) or scale the data as shown in:\n",
      "    https://scikit-learn.org/stable/modules/preprocessing.html\n",
      "Please also refer to the documentation for alternative solver options:\n",
      "    https://scikit-learn.org/stable/modules/linear_model.html#logistic-regression\n",
      "  extra_warning_msg=_LOGISTIC_SOLVER_CONVERGENCE_MSG)\n"
     ]
    }
   ],
   "source": [
    "log_reg = LogisticRegression(max_iter=200)\n",
    "print('TRAIN set')\n",
    "evaluateModel(log_reg, X_train[important_features], y_train, X_train[important_features], y_train, 0.5)\n",
    "print('')\n",
    "print('TEST set')\n",
    "preds_lr = evaluateModel(log_reg, X_train[important_features], y_train, X_test[important_features], y_test, 0.5)"
   ]
  },
  {
   "cell_type": "markdown",
   "metadata": {},
   "source": [
    "###### 9.22 Ewaluacja modelu po undersamplingu"
   ]
  },
  {
   "cell_type": "code",
   "execution_count": 45,
   "metadata": {
    "scrolled": false
   },
   "outputs": [
    {
     "name": "stderr",
     "output_type": "stream",
     "text": [
      "D:\\AnacondaReal\\lib\\site-packages\\sklearn\\utils\\validation.py:72: DataConversionWarning: A column-vector y was passed when a 1d array was expected. Please change the shape of y to (n_samples, ), for example using ravel().\n",
      "  return f(**kwargs)\n"
     ]
    },
    {
     "name": "stdout",
     "output_type": "stream",
     "text": [
      "TRAIN set\n"
     ]
    },
    {
     "name": "stderr",
     "output_type": "stream",
     "text": [
      "D:\\AnacondaReal\\lib\\site-packages\\sklearn\\linear_model\\_logistic.py:764: ConvergenceWarning: lbfgs failed to converge (status=1):\n",
      "STOP: TOTAL NO. of ITERATIONS REACHED LIMIT.\n",
      "\n",
      "Increase the number of iterations (max_iter) or scale the data as shown in:\n",
      "    https://scikit-learn.org/stable/modules/preprocessing.html\n",
      "Please also refer to the documentation for alternative solver options:\n",
      "    https://scikit-learn.org/stable/modules/linear_model.html#logistic-regression\n",
      "  extra_warning_msg=_LOGISTIC_SOLVER_CONVERGENCE_MSG)\n",
      "D:\\AnacondaReal\\lib\\site-packages\\sklearn\\utils\\validation.py:72: DataConversionWarning: A column-vector y was passed when a 1d array was expected. Please change the shape of y to (n_samples, ), for example using ravel().\n",
      "  return f(**kwargs)\n",
      "D:\\AnacondaReal\\lib\\site-packages\\sklearn\\linear_model\\_logistic.py:764: ConvergenceWarning: lbfgs failed to converge (status=1):\n",
      "STOP: TOTAL NO. of ITERATIONS REACHED LIMIT.\n",
      "\n",
      "Increase the number of iterations (max_iter) or scale the data as shown in:\n",
      "    https://scikit-learn.org/stable/modules/preprocessing.html\n",
      "Please also refer to the documentation for alternative solver options:\n",
      "    https://scikit-learn.org/stable/modules/linear_model.html#logistic-regression\n",
      "  extra_warning_msg=_LOGISTIC_SOLVER_CONVERGENCE_MSG)\n"
     ]
    },
    {
     "name": "stdout",
     "output_type": "stream",
     "text": [
      "AUC Score: 0.9050472485346974\n",
      "Accuracy Test: 0.8353221957040573\n",
      "Precision: 0.9897435897435898\n",
      "Recall: 0.4606205250596659\n",
      "\n",
      "Confusion Matrix:\n",
      "\n",
      "       Predicted 0 Predicted 1\n",
      "True 0         417           2\n",
      "True 1         226         193\n",
      "Accuracy Matrix:\n",
      "       Predicted 0 Predicted 1\n",
      "True 0   99.522673    0.477327\n",
      "True 1   53.937947   46.062053\n",
      "\n",
      "\n",
      "TEST set\n",
      "AUC Score: 0.7491640500754394\n",
      "Accuracy Test: 0.6039215686274509\n",
      "Precision: 0.3132530120481928\n",
      "Recall: 0.43575418994413406\n",
      "\n",
      "Confusion Matrix:\n",
      "\n",
      "       Predicted 0 Predicted 1\n",
      "True 0         925         171\n",
      "True 1         101          78\n",
      "Accuracy Matrix:\n",
      "       Predicted 0 Predicted 1\n",
      "True 0   84.397810   15.602190\n",
      "True 1   56.424581   43.575419\n",
      "\n"
     ]
    }
   ],
   "source": [
    "log_reg = LogisticRegression(max_iter=200)\n",
    "print('TRAIN set')\n",
    "evaluateModel(log_reg, X_resampled_pd[important_features], y_resampled_pd , X_resampled_pd[important_features], y_resampled_pd, 0.9)\n",
    "print('')\n",
    "print('TEST set')\n",
    "preds_lr_samp = evaluateModel(log_reg, X_resampled_pd[important_features], y_resampled_pd, X_test[important_features], y_test, 0.9)"
   ]
  },
  {
   "cell_type": "markdown",
   "metadata": {},
   "source": [
    "###### 9.23 Porownanie modelu regresji logistycznej przed undersamplingiem i po"
   ]
  },
  {
   "cell_type": "code",
   "execution_count": 46,
   "metadata": {
    "scrolled": true
   },
   "outputs": [
    {
     "data": {
      "image/png": "[encoded data removed]",
      "text/plain": [
       "<Figure size 1080x720 with 1 Axes>"
      ]
     },
     "metadata": {
      "needs_background": "light"
     },
     "output_type": "display_data"
    }
   ],
   "source": [
    "fpr1, tpr1, thresholds1 = roc_curve(y_test, preds_lr[:,1])\n",
    "fpr2, tpr2, thresholds2 = roc_curve(y_test, preds_lr_samp[:,1])\n",
    "plt.figure(figsize=(15,10))\n",
    "plt.title(\"Logistic Regression ROC Curve\")\n",
    "plt.plot([0, 1], [0, 1], linestyle='--', color='grey')\n",
    "plt.plot(fpr1, tpr1, label='without sampling', color='hotpink')\n",
    "plt.plot(fpr2, tpr2, label='undersampling', color='darkturquoise')\n",
    "plt.legend(loc=\"upper left\")\n",
    "plt.xlabel(\"False positive rate\")\n",
    "plt.ylabel(\"True positive rate\")\n",
    "plt.show()"
   ]
  },
  {
   "cell_type": "markdown",
   "metadata": {},
   "source": [
    "###### Mimo, że krzywe ROC i AUC jest podobne, to jednak precyzja dla modelu bez undersamplingu dla różnych punktów odcięcia jest lepsza, niż dla modelu po undersamplingu (model z undersamplingiem dużo klasyfikuje jako FP), dlatego decyduje się na odrzucenie modelu z undersamplingiem."
   ]
  },
  {
   "cell_type": "markdown",
   "metadata": {},
   "source": [
    "###### 9.24 Optymalizacja modelu regresji logistycznej"
   ]
  },
  {
   "cell_type": "code",
   "execution_count": 48,
   "metadata": {},
   "outputs": [],
   "source": [
    "model = LogisticRegression(max_iter=1000)\n",
    "solvers = [ 'lbfgs', 'liblinear']\n",
    "penalty = ['l1', 'l2']\n",
    "c_values = [100, 10, 1.0, 0.1, 0.01]"
   ]
  },
  {
   "cell_type": "code",
   "execution_count": 49,
   "metadata": {},
   "outputs": [],
   "source": [
    "grid = dict(solver=solvers,penalty=penalty,C=c_values)\n",
    "cv = RepeatedStratifiedKFold(n_splits=10, n_repeats=3, random_state=1)\n",
    "grid_search = GridSearchCV(estimator=model, param_grid=grid, n_jobs=-1, cv=cv, scoring='accuracy',error_score=0)\n",
    "grid_result = grid_search.fit(X_train[important_features], y_train)"
   ]
  },
  {
   "cell_type": "code",
   "execution_count": 50,
   "metadata": {
    "scrolled": true
   },
   "outputs": [
    {
     "name": "stdout",
     "output_type": "stream",
     "text": [
      "Best: 0.864317 using {'C': 0.1, 'penalty': 'l2', 'solver': 'liblinear'}\n"
     ]
    }
   ],
   "source": [
    "print(\"Best: %f using %s\" % (grid_result.best_score_, grid_result.best_params_))\n",
    "#Zoptymalizowane parametry regresji logistycznej"
   ]
  },
  {
   "cell_type": "code",
   "execution_count": 51,
   "metadata": {
    "scrolled": true
   },
   "outputs": [
    {
     "name": "stdout",
     "output_type": "stream",
     "text": [
      "TRAIN set\n",
      "AUC Score: 0.8175615613596723\n",
      "Accuracy Test: 0.8611764705882353\n",
      "Precision: 0.5272727272727272\n",
      "Recall: 0.13842482100238662\n",
      "\n",
      "Confusion Matrix:\n",
      "\n",
      "       Predicted 0 Predicted 1\n",
      "True 0        2504          52\n",
      "True 1         361          58\n",
      "Accuracy Matrix:\n",
      "       Predicted 0 Predicted 1\n",
      "True 0   97.965571    2.034429\n",
      "True 1   86.157518   13.842482\n",
      "\n",
      "\n",
      "TEST set\n",
      "AUC Score: 0.8215501773844962\n",
      "Accuracy Test: 0.8611764705882353\n",
      "Precision: 0.5208333333333334\n",
      "Recall: 0.13966480446927373\n",
      "\n",
      "Confusion Matrix:\n",
      "\n",
      "       Predicted 0 Predicted 1\n",
      "True 0        1073          23\n",
      "True 1         154          25\n",
      "Accuracy Matrix:\n",
      "       Predicted 0 Predicted 1\n",
      "True 0    97.90146     2.09854\n",
      "True 1    86.03352    13.96648\n",
      "\n"
     ]
    }
   ],
   "source": [
    "log_reg = LogisticRegression(max_iter=1000,C=0.1,penalty='l2',solver='lbfgs')\n",
    "print('TRAIN set')\n",
    "evaluateModel(log_reg, X_train[important_features], y_train, X_train[important_features], y_train, 0.5)\n",
    "print('')\n",
    "print('TEST set')\n",
    "preds_lr_opt = evaluateModel(log_reg, X_train[important_features], y_train, X_test[important_features], y_test, 0.5)"
   ]
  },
  {
   "cell_type": "code",
   "execution_count": 52,
   "metadata": {},
   "outputs": [
    {
     "data": {
      "image/png": "[encoded data removed]",
      "text/plain": [
       "<Figure size 1080x720 with 1 Axes>"
      ]
     },
     "metadata": {
      "needs_background": "light"
     },
     "output_type": "display_data"
    }
   ],
   "source": [
    "fpr1, tpr1, thresholds1 = roc_curve(y_test, preds_lr[:,1])\n",
    "fpr2, tpr2, thresholds2 = roc_curve(y_test, preds_lr_opt[:,1])\n",
    "plt.figure(figsize=(15,10))\n",
    "plt.title(\"Logistic Regression ROC Curve\")\n",
    "plt.plot([0, 1], [0, 1], linestyle='--', color='grey')\n",
    "plt.plot(fpr1, tpr1, label='not optimized', color='hotpink')\n",
    "plt.plot(fpr2, tpr2, label='optimized', color='darkturquoise')\n",
    "plt.legend(loc=\"upper left\")\n",
    "plt.xlabel(\"False positive rate\")\n",
    "plt.ylabel(\"True positive rate\")\n",
    "plt.show()"
   ]
  },
  {
   "cell_type": "markdown",
   "metadata": {},
   "source": [
    "###### Po optymalizacji parametrów regresji logistycznej obszar pod krzywa ROC jest znacząco większy"
   ]
  },
  {
   "cell_type": "markdown",
   "metadata": {},
   "source": [
    "### 9.3 Model random forest"
   ]
  },
  {
   "cell_type": "code",
   "execution_count": 54,
   "metadata": {
    "scrolled": true
   },
   "outputs": [
    {
     "name": "stdout",
     "output_type": "stream",
     "text": [
      "TRAIN set\n",
      "AUC Score: 1.0\n",
      "Accuracy Test: 1.0\n",
      "Precision: 1.0\n",
      "Recall: 1.0\n",
      "\n",
      "Confusion Matrix:\n",
      "\n",
      "       Predicted 0 Predicted 1\n",
      "True 0        2556           0\n",
      "True 1           0         419\n",
      "Accuracy Matrix:\n",
      "       Predicted 0 Predicted 1\n",
      "True 0       100.0         0.0\n",
      "True 1         0.0       100.0\n",
      "\n",
      "TEST set\n",
      "AUC Score: 0.9202534355502997\n",
      "Accuracy Test: 0.9372549019607843\n",
      "Precision: 0.890625\n",
      "Recall: 0.6368715083798883\n",
      "\n",
      "Confusion Matrix:\n",
      "\n",
      "       Predicted 0 Predicted 1\n",
      "True 0        1082          14\n",
      "True 1          65         114\n",
      "Accuracy Matrix:\n",
      "       Predicted 0 Predicted 1\n",
      "True 0   98.722628    1.277372\n",
      "True 1   36.312849   63.687151\n",
      "\n"
     ]
    }
   ],
   "source": [
    "rf = RandomForestClassifier()\n",
    "print('TRAIN set')\n",
    "evaluateModel(rf, X_train[important_features], y_train, X_train[important_features], y_train, 0.5)\n",
    "print('TEST set')\n",
    "preds_rf = evaluateModel(rf, X_train[important_features], y_train, X_test[important_features], y_test, 0.5)"
   ]
  },
  {
   "cell_type": "markdown",
   "metadata": {},
   "source": [
    "###### Na regresji logistycznej z undersamplingiem było gorzej, więc tutaj już nie sprawdzam dla danych undersamplingowych"
   ]
  },
  {
   "cell_type": "code",
   "execution_count": 56,
   "metadata": {
    "scrolled": true
   },
   "outputs": [
    {
     "name": "stdout",
     "output_type": "stream",
     "text": [
      "Fitting 3 folds for each of 51 candidates, totalling 153 fits\n"
     ]
    },
    {
     "name": "stderr",
     "output_type": "stream",
     "text": [
      "[Parallel(n_jobs=-1)]: Using backend LokyBackend with 8 concurrent workers.\n",
      "[Parallel(n_jobs=-1)]: Done  25 tasks      | elapsed:    3.0s\n",
      "[Parallel(n_jobs=-1)]: Done 153 out of 153 | elapsed:   20.6s finished\n"
     ]
    },
    {
     "data": {
      "text/plain": [
       "({'max_depth': 15, 'max_features': 'auto'}, 0.9307561738441673)"
      ]
     },
     "execution_count": 56,
     "metadata": {},
     "output_type": "execute_result"
    }
   ],
   "source": [
    "param_grid1 = {\n",
    "    'max_depth': np.arange(3,20,1),\n",
    "    'max_features': [\"auto\", \"sqrt\", \"log2\"]\n",
    "}\n",
    "rf = RandomForestClassifier()\n",
    "grid_search = GridSearchCV(estimator = rf, param_grid = param_grid1, \n",
    "                          cv = 3, n_jobs = -1, verbose = 2)\n",
    "grid_search.fit(X_train[important_features],y_train)\n",
    "grid_search.best_params_, grid_search.best_score_"
   ]
  },
  {
   "cell_type": "code",
   "execution_count": 57,
   "metadata": {},
   "outputs": [
    {
     "data": {
      "text/plain": [
       "({'min_samples_leaf': 3, 'min_samples_split': 3}, 0.9270588235294118)"
      ]
     },
     "execution_count": 57,
     "metadata": {},
     "output_type": "execute_result"
    }
   ],
   "source": [
    "param_grid2 = {\n",
    "    'min_samples_leaf': [3, 4, 5, 10],\n",
    "    'min_samples_split': [3, 8, 10, 12]\n",
    "}\n",
    "rf = RandomForestClassifier(max_depth=19, max_features='log2')\n",
    "grid_search2 = GridSearchCV(estimator = rf, \n",
    " param_grid = param_grid2)\n",
    "grid_search2.fit(X_train[important_features],y_train)\n",
    "grid_search2.best_params_, grid_search2.best_score_"
   ]
  },
  {
   "cell_type": "code",
   "execution_count": 58,
   "metadata": {},
   "outputs": [
    {
     "data": {
      "text/plain": [
       "({'n_estimators': 100}, 0.9273949579831934)"
      ]
     },
     "execution_count": 58,
     "metadata": {},
     "output_type": "execute_result"
    }
   ],
   "source": [
    "param_grid3= {\n",
    "    'n_estimators': [100, 200, 300, 1000]\n",
    "}\n",
    "rf = RandomForestClassifier(max_depth=19, max_features='log2', min_samples_leaf=3, min_samples_split=8)\n",
    "grid_search3 = GridSearchCV(estimator = rf, \n",
    " param_grid = param_grid3, cv=5)\n",
    "grid_search3.fit(X_train[important_features],y_train)\n",
    "grid_search3.best_params_, grid_search3.best_score_"
   ]
  },
  {
   "cell_type": "code",
   "execution_count": 59,
   "metadata": {
    "scrolled": true
   },
   "outputs": [
    {
     "name": "stdout",
     "output_type": "stream",
     "text": [
      "TRAIN set\n",
      "AUC Score: 0.9959298351765324\n",
      "Accuracy Test: 0.9757983193277311\n",
      "Precision: 0.9887323943661972\n",
      "Recall: 0.837708830548926\n",
      "\n",
      "Confusion Matrix:\n",
      "\n",
      "       Predicted 0 Predicted 1\n",
      "True 0        2552           4\n",
      "True 1          68         351\n",
      "Accuracy Matrix:\n",
      "       Predicted 0 Predicted 1\n",
      "True 0   99.843505    0.156495\n",
      "True 1   16.229117   83.770883\n",
      "\n",
      "TEST set\n",
      "AUC Score: 0.9206000489336541\n",
      "Accuracy Test: 0.9317647058823529\n",
      "Precision: 0.8833333333333333\n",
      "Recall: 0.5921787709497207\n",
      "\n",
      "Confusion Matrix:\n",
      "\n",
      "       Predicted 0 Predicted 1\n",
      "True 0        1082          14\n",
      "True 1          73         106\n",
      "Accuracy Matrix:\n",
      "       Predicted 0 Predicted 1\n",
      "True 0   98.722628    1.277372\n",
      "True 1   40.782123   59.217877\n",
      "\n"
     ]
    }
   ],
   "source": [
    "rf = RandomForestClassifier(max_depth=19, max_features='log2', min_samples_leaf=3, min_samples_split=8,n_estimators=200)\n",
    "print('TRAIN set')\n",
    "evaluateModel(rf, X_train[important_features], y_train, X_train[important_features], y_train, 0.5)\n",
    "print('TEST set')\n",
    "preds_rf_opt = evaluateModel(rf, X_train[important_features], y_train, X_test[important_features], y_test, 0.5)"
   ]
  },
  {
   "cell_type": "code",
   "execution_count": 60,
   "metadata": {},
   "outputs": [
    {
     "data": {
      "image/png": "[encoded data removed]",
      "text/plain": [
       "<Figure size 1080x720 with 1 Axes>"
      ]
     },
     "metadata": {
      "needs_background": "light"
     },
     "output_type": "display_data"
    }
   ],
   "source": [
    "fpr1, tpr1, thresholds1 = roc_curve(y_test, preds_rf[:,1])\n",
    "fpr2, tpr2, thresholds2 = roc_curve(y_test, preds_rf_opt[:,1])\n",
    "plt.figure(figsize=(15,10))\n",
    "plt.title(\"Random forest model before and after tuning\")\n",
    "plt.plot([0, 1], [0, 1], linestyle='--', color='grey')\n",
    "plt.plot(fpr1, tpr1, label='Random forest before tuning', color='hotpink')\n",
    "plt.plot(fpr2, tpr2, label='Random forest after tuning', color='darkturquoise')\n",
    "plt.legend(loc=\"upper left\")\n",
    "plt.xlabel(\"False positive rate\")\n",
    "plt.ylabel(\"True positive rate\")\n",
    "plt.show()"
   ]
  },
  {
   "cell_type": "code",
   "execution_count": 61,
   "metadata": {},
   "outputs": [],
   "source": [
    "#optymalizacja niezbyt wplynela, oba sa bardzo podobne"
   ]
  },
  {
   "cell_type": "code",
   "execution_count": 62,
   "metadata": {},
   "outputs": [
    {
     "data": {
      "image/png": "[encoded data removed]",
      "text/plain": [
       "<Figure size 1080x720 with 1 Axes>"
      ]
     },
     "metadata": {
      "needs_background": "light"
     },
     "output_type": "display_data"
    }
   ],
   "source": [
    "fpr1, tpr1, thresholds1 = roc_curve(y_test, preds_rf[:,1])\n",
    "fpr2, tpr2, thresholds2 = roc_curve(y_test, preds_lr_opt[:,1])\n",
    "plt.figure(figsize=(15,10))\n",
    "plt.title(\"Random forest vs Regresja Logistyczna\")\n",
    "plt.plot([0, 1], [0, 1], linestyle='--', color='grey')\n",
    "plt.plot(fpr1, tpr1, label='Random forest', color='hotpink')\n",
    "plt.plot(fpr2, tpr2, label='Regresja logistyczna', color='darkturquoise')\n",
    "plt.legend(loc=\"upper left\")\n",
    "plt.xlabel(\"False positive rate\")\n",
    "plt.ylabel(\"True positive rate\")\n",
    "plt.show()"
   ]
  },
  {
   "cell_type": "markdown",
   "metadata": {},
   "source": [
    "###### Po powyższym wykresie widać, że las losowy jest zdecydowanie lepszy od modelu regresji logistycznej"
   ]
  },
  {
   "cell_type": "markdown",
   "metadata": {},
   "source": [
    "### 9.4 Model XGBoost"
   ]
  },
  {
   "cell_type": "code",
   "execution_count": 64,
   "metadata": {},
   "outputs": [
    {
     "name": "stdout",
     "output_type": "stream",
     "text": [
      "TRAIN set\n",
      "AUC Score: 1.0\n",
      "Accuracy Test: 1.0\n",
      "Precision: 1.0\n",
      "Recall: 1.0\n",
      "\n",
      "Confusion Matrix:\n",
      "\n",
      "       Predicted 0 Predicted 1\n",
      "True 0        2556           0\n",
      "True 1           0         419\n",
      "Accuracy Matrix:\n",
      "       Predicted 0 Predicted 1\n",
      "True 0       100.0         0.0\n",
      "True 1         0.0       100.0\n",
      "\n",
      "TEST set\n",
      "AUC Score: 0.9176079598744037\n",
      "Accuracy Test: 0.9411764705882353\n",
      "Precision: 0.8571428571428571\n",
      "Recall: 0.7374301675977654\n",
      "\n",
      "Confusion Matrix:\n",
      "\n",
      "       Predicted 0 Predicted 1\n",
      "True 0        1074          22\n",
      "True 1          47         132\n",
      "Accuracy Matrix:\n",
      "       Predicted 0 Predicted 1\n",
      "True 0   97.992701    2.007299\n",
      "True 1   26.256983   73.743017\n",
      "\n"
     ]
    }
   ],
   "source": [
    "xg_boost_1 = XGBClassifier(objective= 'binary:logistic')\n",
    "print('TRAIN set')\n",
    "evaluateModel(xg_boost_1, X_train[important_features], y_train, X_train[important_features], y_train, 0.5)\n",
    "print('TEST set')\n",
    "preds_xgb = evaluateModel(xg_boost_1, X_train[important_features], y_train, X_test[important_features], y_test, 0.3)"
   ]
  },
  {
   "cell_type": "code",
   "execution_count": 65,
   "metadata": {
    "scrolled": true
   },
   "outputs": [
    {
     "name": "stderr",
     "output_type": "stream",
     "text": [
      "D:\\AnacondaReal\\lib\\site-packages\\sklearn\\model_selection\\_search.py:849: FutureWarning: The parameter 'iid' is deprecated in 0.22 and will be removed in 0.24.\n",
      "  \"removed in 0.24.\", FutureWarning\n"
     ]
    },
    {
     "data": {
      "text/plain": [
       "({'max_depth': 10, 'min_child_weight': 1}, 0.9004990674011394)"
      ]
     },
     "execution_count": 65,
     "metadata": {},
     "output_type": "execute_result"
    }
   ],
   "source": [
    "param_test1 = {\n",
    " 'max_depth': np.arange(3,20,1),\n",
    " 'min_child_weight': np.arange(1,6,1),\n",
    "}\n",
    "\n",
    "gsearch1 = GridSearchCV(estimator = XGBClassifier(objective= 'binary:logistic'), \n",
    "param_grid = param_test1, scoring='roc_auc',n_jobs=4,iid=False, cv=5)\n",
    "\n",
    "gsearch1.fit(X_train[important_features],y_train)\n",
    "gsearch1.best_params_, gsearch1.best_score_"
   ]
  },
  {
   "cell_type": "code",
   "execution_count": 66,
   "metadata": {},
   "outputs": [
    {
     "name": "stderr",
     "output_type": "stream",
     "text": [
      "D:\\AnacondaReal\\lib\\site-packages\\sklearn\\model_selection\\_search.py:849: FutureWarning: The parameter 'iid' is deprecated in 0.22 and will be removed in 0.24.\n",
      "  \"removed in 0.24.\", FutureWarning\n"
     ]
    },
    {
     "data": {
      "text/plain": [
       "({'gamma': 0.3}, 0.8987507940800101)"
      ]
     },
     "execution_count": 66,
     "metadata": {},
     "output_type": "execute_result"
    }
   ],
   "source": [
    "param_test2 = {\n",
    " 'gamma': [i/10.0 for i in range(0,5)]\n",
    "}\n",
    "gsearch2 = GridSearchCV(estimator = XGBClassifier( max_depth=3,\n",
    " min_child_weight=2,\n",
    " objective= 'binary:logistic'), \n",
    " param_grid = param_test2, scoring='roc_auc',n_jobs=4,iid=False, cv=5)\n",
    "gsearch2.fit(X_train[important_features],y_train)\n",
    "gsearch2.best_params_, gsearch2.best_score_"
   ]
  },
  {
   "cell_type": "code",
   "execution_count": 67,
   "metadata": {
    "scrolled": true
   },
   "outputs": [
    {
     "name": "stderr",
     "output_type": "stream",
     "text": [
      "D:\\AnacondaReal\\lib\\site-packages\\sklearn\\model_selection\\_search.py:849: FutureWarning: The parameter 'iid' is deprecated in 0.22 and will be removed in 0.24.\n",
      "  \"removed in 0.24.\", FutureWarning\n"
     ]
    },
    {
     "data": {
      "text/plain": [
       "({'colsample_bytree': 0.6, 'subsample': 0.8}, 0.9002710989856826)"
      ]
     },
     "execution_count": 67,
     "metadata": {},
     "output_type": "execute_result"
    }
   ],
   "source": [
    "param_test3= {\n",
    " 'subsample':[i/10.0 for i in range(6,10)],\n",
    " 'colsample_bytree':[i/10.0 for i in range(6,10)]\n",
    "}\n",
    "gsearch3 = GridSearchCV(estimator = XGBClassifier( max_depth=3,\n",
    " min_child_weight=2, gamma=0,\n",
    " objective= 'binary:logistic'), \n",
    " param_grid = param_test3, scoring='roc_auc',n_jobs=4,iid=False, cv=5)\n",
    "gsearch3.fit(X_train[important_features],y_train)\n",
    "gsearch3.best_params_, gsearch3.best_score_"
   ]
  },
  {
   "cell_type": "code",
   "execution_count": 68,
   "metadata": {},
   "outputs": [
    {
     "name": "stderr",
     "output_type": "stream",
     "text": [
      "D:\\AnacondaReal\\lib\\site-packages\\sklearn\\model_selection\\_search.py:849: FutureWarning: The parameter 'iid' is deprecated in 0.22 and will be removed in 0.24.\n",
      "  \"removed in 0.24.\", FutureWarning\n"
     ]
    },
    {
     "data": {
      "text/plain": [
       "({'reg_alpha': 1e-05}, 0.8999752772096213)"
      ]
     },
     "execution_count": 68,
     "metadata": {},
     "output_type": "execute_result"
    }
   ],
   "source": [
    "param_test4= {\n",
    "'reg_alpha':[1e-5, 1e-2, 0.1, 1, 100]\n",
    "}\n",
    "gsearch4 = GridSearchCV(estimator = XGBClassifier( max_depth=3,\n",
    " min_child_weight=2, gamma=0, colsample_bytree = 0.6, subsample= 0.9,\n",
    " objective= 'binary:logistic'), \n",
    " param_grid = param_test4, scoring='roc_auc',n_jobs=4,iid=False, cv=5)\n",
    "gsearch4.fit(X_train[important_features],y_train)\n",
    "gsearch4.best_params_, gsearch4.best_score_"
   ]
  },
  {
   "cell_type": "code",
   "execution_count": 69,
   "metadata": {
    "scrolled": true
   },
   "outputs": [
    {
     "name": "stdout",
     "output_type": "stream",
     "text": [
      "TRAIN set\n",
      "AUC Score: 0.9876130290093784\n",
      "Accuracy Test: 0.9704201680672269\n",
      "Precision: 0.9635854341736695\n",
      "Recall: 0.8210023866348448\n",
      "\n",
      "Confusion Matrix:\n",
      "\n",
      "       Predicted 0 Predicted 1\n",
      "True 0        2543          13\n",
      "True 1          75         344\n",
      "Accuracy Matrix:\n",
      "       Predicted 0 Predicted 1\n",
      "True 0   99.491393    0.508607\n",
      "True 1   17.899761   82.100239\n",
      "\n",
      "TEST set\n",
      "AUC Score: 0.921328956489826\n",
      "Accuracy Test: 0.9341176470588235\n",
      "Precision: 0.7942857142857143\n",
      "Recall: 0.776536312849162\n",
      "\n",
      "Confusion Matrix:\n",
      "\n",
      "       Predicted 0 Predicted 1\n",
      "True 0        1060          36\n",
      "True 1          40         139\n",
      "Accuracy Matrix:\n",
      "       Predicted 0 Predicted 1\n",
      "True 0   96.715328    3.284672\n",
      "True 1   22.346369   77.653631\n",
      "\n"
     ]
    }
   ],
   "source": [
    "xg_boost_1 = XGBClassifier(max_depth=3,\n",
    " min_child_weight=2, gamma=0, colsample_bytree = 0.6, subsample= 0.9,\n",
    " objective= 'binary:logistic',reg_alpha=1)\n",
    "print('TRAIN set')\n",
    "evaluateModel(xg_boost_1, X_train[important_features], y_train, X_train[important_features], y_train, 0.5)\n",
    "print('TEST set')\n",
    "preds_xgb_opt = evaluateModel(xg_boost_1, X_train[important_features], y_train, X_test[important_features], y_test, 0.3)"
   ]
  },
  {
   "cell_type": "code",
   "execution_count": 70,
   "metadata": {
    "scrolled": true
   },
   "outputs": [
    {
     "data": {
      "image/png": "[encoded data removed]",
      "text/plain": [
       "<Figure size 1080x720 with 1 Axes>"
      ]
     },
     "metadata": {
      "needs_background": "light"
     },
     "output_type": "display_data"
    }
   ],
   "source": [
    "fpr1, tpr1, thresholds1 = roc_curve(y_test, preds_xgb[:,1])\n",
    "fpr2, tpr2, thresholds2 = roc_curve(y_test, preds_xgb_opt[:,1])\n",
    "plt.figure(figsize=(15,10))\n",
    "plt.title(\"Model XGBoost przed i po optymalizacji\")\n",
    "plt.plot([0, 1], [0, 1], linestyle='--', color='grey')\n",
    "plt.plot(fpr1, tpr1, label='XGBoost przed optymalizacja', color='hotpink')\n",
    "plt.plot(fpr2, tpr2, label='XGBoost po optymalizacji', color='darkturquoise')\n",
    "plt.legend(loc=\"upper left\")\n",
    "plt.xlabel(\"False positive rate\")\n",
    "plt.ylabel(\"True positive rate\")\n",
    "plt.show()"
   ]
  },
  {
   "cell_type": "code",
   "execution_count": 71,
   "metadata": {},
   "outputs": [
    {
     "data": {
      "image/png": "[encoded data removed]",
      "text/plain": [
       "<Figure size 1080x720 with 1 Axes>"
      ]
     },
     "metadata": {
      "needs_background": "light"
     },
     "output_type": "display_data"
    }
   ],
   "source": [
    "fpr1, tpr1, thresholds1 = roc_curve(y_test, preds_rf[:,1])\n",
    "fpr2, tpr2, thresholds2 = roc_curve(y_test, preds_xgb_opt[:,1])\n",
    "plt.figure(figsize=(15,10))\n",
    "plt.title(\"Random forest vs XGBoost po optymalizacji\")\n",
    "plt.plot([0, 1], [0, 1], linestyle='--', color='grey')\n",
    "plt.plot(fpr1, tpr1, label='Random forest', color='hotpink')\n",
    "plt.plot(fpr2, tpr2, label='XGBoost po optymalizacji', color='darkturquoise')\n",
    "plt.legend(loc=\"upper left\")\n",
    "plt.xlabel(\"False positive rate\")\n",
    "plt.ylabel(\"True positive rate\")\n",
    "plt.show()"
   ]
  },
  {
   "cell_type": "markdown",
   "metadata": {},
   "source": [
    "###### AUC jest takie samo w modelu XGBoost i Random Forest, recall lepszy w XGBoost ale w Random Forest lepsza jest precyzja. Modele są bardzo podobne i błędem nie będzie wzięcie jednego bądź drugiego."
   ]
  },
  {
   "cell_type": "markdown",
   "metadata": {},
   "source": [
    "###### Gdyby to były rzeczywiste dane, to tak idealny wynik powinien budzić podejrzenia. Raczej nie jest on możliwy do uzyskania na rzeczywistych danych, jeżeli nie dołączymy przypadkiem niepożądanej zmiennej"
   ]
  },
  {
   "cell_type": "markdown",
   "metadata": {},
   "source": [
    "###### Podsumowując, w naszym zbiorze danych nie było braków danych. Na początku została przeprowadzona analiza opisowa danych,która pozwoliła na wyciągnięcie podstawowych wniosków dotyczących zbioru danych. Później ze zbioru zostały wykluczone pewne zmienne, które nie wpływały istotnie na zmienną celu. Na końcu została przeprowadzona analiza pod kątem wyboru odpowiedniego modelu  predykcyjnego. Najlepszym modelem okazał się Random Forest lub XGBoost."
   ]
  }
 ],
 "metadata": {
  "kernelspec": {
   "display_name": "Python 3",
   "language": "python",
   "name": "python3"
  },
  "language_info": {
   "codemirror_mode": {
    "name": "ipython",
    "version": 3
   },
   "file_extension": ".py",
   "mimetype": "text/x-python",
   "name": "python",
   "nbconvert_exporter": "python",
   "pygments_lexer": "ipython3",
   "version": "3.7.6"
  }
 },
 "nbformat": 4,
 "nbformat_minor": 4
}
